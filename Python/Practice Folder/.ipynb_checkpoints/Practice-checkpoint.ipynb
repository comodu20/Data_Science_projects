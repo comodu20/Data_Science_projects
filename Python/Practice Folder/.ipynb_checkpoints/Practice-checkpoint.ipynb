{
 "cells": [
  {
   "cell_type": "code",
   "execution_count": 1,
   "metadata": {},
   "outputs": [
    {
     "name": "stdout",
     "output_type": "stream",
     "text": [
      "hello world\n"
     ]
    }
   ],
   "source": [
    "print(\"hello world\")"
   ]
  },
  {
   "cell_type": "code",
   "execution_count": 2,
   "metadata": {},
   "outputs": [
    {
     "name": "stdout",
     "output_type": "stream",
     "text": [
      "|\\ \n",
      "| \\ \n",
      "|  \\ \n",
      "|___\\ \n"
     ]
    }
   ],
   "source": [
    "print(\"|\\ \")\n",
    "print(\"| \\ \")  \n",
    "print(\"|  \\ \")\n",
    "print(\"|___\\ \")  "
   ]
  },
  {
   "cell_type": "code",
   "execution_count": 3,
   "metadata": {},
   "outputs": [
    {
     "name": "stdout",
     "output_type": "stream",
     "text": [
      "The once was a man named George, \n",
      "he was 70 years old. \n",
      "he really liked the name George, \n",
      "but didn't like being 70.\n"
     ]
    }
   ],
   "source": [
    "print(\"The once was a man named George, \")\n",
    "print(\"he was 70 years old. \")\n",
    "print(\"he really liked the name George, \")\n",
    "print(\"but didn't like being 70.\")"
   ]
  },
  {
   "cell_type": "code",
   "execution_count": 4,
   "metadata": {},
   "outputs": [
    {
     "name": "stdout",
     "output_type": "stream",
     "text": [
      "The once was a man named John,\n",
      "he was 45 years old. \n",
      "he really liked the name John \n",
      "but didn't like being 45.\n"
     ]
    }
   ],
   "source": [
    "character_name = \"John\"\n",
    "character_age = \"45\"\n",
    "print(\"The once was a man named \" + character_name + \",\")\n",
    "print(\"he was \" + character_age + \" years old. \")\n",
    "print(\"he really liked the name \" + character_name + \" \")\n",
    "print(\"but didn't like being \" + character_age + \".\")"
   ]
  },
  {
   "cell_type": "code",
   "execution_count": 5,
   "metadata": {},
   "outputs": [
    {
     "name": "stdout",
     "output_type": "stream",
     "text": [
      "The once was a man named John,\n",
      "he was 45 years old. \n",
      "he really liked the name Mike \n",
      "but didn't like being 45.\n"
     ]
    }
   ],
   "source": [
    "character_name = \"John\"\n",
    "character_age = \"45\"\n",
    "print(\"The once was a man named \" + character_name + \",\")\n",
    "print(\"he was \" + character_age + \" years old. \")\n",
    "\n",
    "character_name = \"Mike\"\n",
    "print(\"he really liked the name \" + character_name + \" \")\n",
    "print(\"but didn't like being \" + character_age + \".\")"
   ]
  },
  {
   "cell_type": "raw",
   "metadata": {},
   "source": [
    "2==2\n"
   ]
  },
  {
   "cell_type": "code",
   "execution_count": 6,
   "metadata": {},
   "outputs": [
    {
     "name": "stdout",
     "output_type": "stream",
     "text": [
      "The once was a man named John,\n",
      "he was 50.5678213 years old. \n",
      "he really liked the name Mike \n",
      "but didn't like being 50.5678213.\n"
     ]
    }
   ],
   "source": [
    "character_name = \"John\"\n",
    "character_age = \"50.5678213\"\n",
    "is_male = False\n",
    "print(\"The once was a man named \" + character_name + \",\")\n",
    "print(\"he was \" + character_age + \" years old. \")\n",
    "\n",
    "character_name = \"Mike\"\n",
    "print(\"he really liked the name \" + character_name + \" \")\n",
    "print(\"but didn't like being \" + character_age + \".\")"
   ]
  },
  {
   "cell_type": "code",
   "execution_count": 2,
   "metadata": {},
   "outputs": [
    {
     "name": "stdout",
     "output_type": "stream",
     "text": [
      "1\n",
      "2\n",
      "Fizz\n",
      "4\n",
      "Buzz\n",
      "Fizz\n",
      "7\n",
      "8\n",
      "Fizz\n",
      "Buzz\n",
      "11\n",
      "Fizz\n",
      "13\n",
      "14\n",
      "FizzBuzz\n"
     ]
    }
   ],
   "source": [
    "n=15\n",
    "for i in range(1, n+1):\n",
    "    if i % 15 == 0:\n",
    "        print(\"FizzBuzz\")\n",
    "    elif i % 3 == 0:\n",
    "        print(\"Fizz\")\n",
    "    elif i % 5 == 0:\n",
    "        print(\"Buzz\")\n",
    "    else:\n",
    "        if i % 15 != 0:\n",
    "            print(i)\n"
   ]
  },
  {
   "cell_type": "code",
   "execution_count": 7,
   "metadata": {},
   "outputs": [
    {
     "name": "stdout",
     "output_type": "stream",
     "text": [
      "Giraffe Academy\n",
      "Giraffe\n",
      "Academy\n"
     ]
    }
   ],
   "source": [
    "print(\"Giraffe Academy\")\n",
    "print(\"Giraffe\\nAcademy\")"
   ]
  },
  {
   "cell_type": "code",
   "execution_count": 2,
   "metadata": {},
   "outputs": [
    {
     "name": "stdout",
     "output_type": "stream",
     "text": [
      "Giraffe \"Academy\"\n"
     ]
    }
   ],
   "source": [
    "print(\"Giraffe \\\"Academy\\\"\")"
   ]
  },
  {
   "cell_type": "code",
   "execution_count": 9,
   "metadata": {},
   "outputs": [
    {
     "name": "stdout",
     "output_type": "stream",
     "text": [
      "Giraffe Academy is cool.\n"
     ]
    }
   ],
   "source": [
    "phrase = \"Giraffe Academy\"\n",
    "print(phrase + \" is cool.\")"
   ]
  },
  {
   "cell_type": "code",
   "execution_count": 10,
   "metadata": {},
   "outputs": [
    {
     "name": "stdout",
     "output_type": "stream",
     "text": [
      "giraffe academy\n",
      "GIRAFFE ACADEMY\n",
      "False\n",
      "False\n"
     ]
    }
   ],
   "source": [
    "phrase = \"Giraffe Academy\"\n",
    "print(phrase.lower())\n",
    "print(phrase.upper())\n",
    "print(phrase.isupper())\n",
    "print(phrase.islower())"
   ]
  },
  {
   "cell_type": "code",
   "execution_count": 11,
   "metadata": {},
   "outputs": [
    {
     "name": "stdout",
     "output_type": "stream",
     "text": [
      "True\n",
      "False\n",
      "False\n"
     ]
    }
   ],
   "source": [
    "phrase = \"Giraffe Academy\"\n",
    "print(phrase.upper().isupper())\n",
    "print(phrase.upper().islower())\n",
    "print(phrase.lower().isupper())"
   ]
  },
  {
   "cell_type": "code",
   "execution_count": 12,
   "metadata": {},
   "outputs": [
    {
     "name": "stdout",
     "output_type": "stream",
     "text": [
      "15\n",
      "a\n",
      "G\n",
      "8\n",
      "Elephant Academy\n",
      "Elephant School\n"
     ]
    }
   ],
   "source": [
    "phrase = \"Giraffe Academy\"\n",
    "print(len(phrase))\n",
    "print(phrase[3])\n",
    "print(phrase[0])\n",
    "print(phrase.index(\"A\"))\n",
    "print(phrase.replace(\"Giraffe\", \"Elephant\"))\n",
    "print(phrase.replace(\"Giraffe\", \"Elephant\").replace(\"Academy\", \"School\"))"
   ]
  },
  {
   "cell_type": "code",
   "execution_count": 13,
   "metadata": {},
   "outputs": [
    {
     "name": "stdout",
     "output_type": "stream",
     "text": [
      "-2.0987\n"
     ]
    }
   ],
   "source": [
    "print(-2.0987)"
   ]
  },
  {
   "cell_type": "code",
   "execution_count": 14,
   "metadata": {},
   "outputs": [
    {
     "name": "stdout",
     "output_type": "stream",
     "text": [
      "6.5\n"
     ]
    }
   ],
   "source": [
    "print(2 + 4.5)"
   ]
  },
  {
   "cell_type": "code",
   "execution_count": 15,
   "metadata": {},
   "outputs": [
    {
     "name": "stdout",
     "output_type": "stream",
     "text": [
      "17\n"
     ]
    }
   ],
   "source": [
    "print(3 * 4 + 5)"
   ]
  },
  {
   "cell_type": "code",
   "execution_count": 2,
   "metadata": {},
   "outputs": [
    {
     "name": "stdout",
     "output_type": "stream",
     "text": [
      "1\n",
      "0\n",
      "1\n"
     ]
    }
   ],
   "source": [
    "print(10 % 3)\n",
    "print(4 % 2)\n",
    "print(100 % 3)          #gives remainder of a division operation"
   ]
  },
  {
   "cell_type": "code",
   "execution_count": 4,
   "metadata": {},
   "outputs": [
    {
     "name": "stdout",
     "output_type": "stream",
     "text": [
      "5, my shittiest number\n"
     ]
    }
   ],
   "source": [
    "my_num = 5\n",
    "print(str(my_num) + \", my shittiest number\")"
   ]
  },
  {
   "cell_type": "code",
   "execution_count": 20,
   "metadata": {},
   "outputs": [
    {
     "name": "stdout",
     "output_type": "stream",
     "text": [
      "There once was a man named John\n",
      "He was 45 years old\n",
      "He very much liked the name, John\n",
      "But didn't much care for being 45 years old.\n"
     ]
    }
   ],
   "source": [
    "character_name = \"John\"\n",
    "character_age = 45\n",
    "print(\"There once was a man named \" + character_name + \"\\nHe was \" + str(character_age) + \" years old\\nHe very much liked the name, \" + character_name + \"\\nBut didn't much care for being \" + str(character_age) + \" years old.\")"
   ]
  },
  {
   "cell_type": "code",
   "execution_count": 19,
   "metadata": {},
   "outputs": [
    {
     "name": "stdout",
     "output_type": "stream",
     "text": [
      "5\n",
      "11.559999999999999\n",
      "6\n",
      "4\n",
      "8\n"
     ]
    }
   ],
   "source": [
    "my_num = -5\n",
    "print(abs(my_num))\n",
    "print(pow(3.4, 2))\n",
    "print(max(4, 6))\n",
    "print(min(4, 6))\n",
    "print(round(7.77))\n"
   ]
  },
  {
   "cell_type": "code",
   "execution_count": 21,
   "metadata": {},
   "outputs": [
    {
     "ename": "NameError",
     "evalue": "name 'floor' is not defined",
     "output_type": "error",
     "traceback": [
      "\u001b[1;31m---------------------------------------------------------------------------\u001b[0m",
      "\u001b[1;31mNameError\u001b[0m                                 Traceback (most recent call last)",
      "\u001b[1;32m~\\AppData\\Local\\Temp/ipykernel_26016/1628844936.py\u001b[0m in \u001b[0;36m<module>\u001b[1;34m\u001b[0m\n\u001b[1;32m----> 1\u001b[1;33m \u001b[0mprint\u001b[0m\u001b[1;33m(\u001b[0m\u001b[0mfloor\u001b[0m\u001b[1;33m(\u001b[0m\u001b[1;36m3.7\u001b[0m\u001b[1;33m)\u001b[0m\u001b[1;33m)\u001b[0m             \u001b[1;31m#from math  import * allows us to access math functions like \"floor\" which picks the lower approximation\u001b[0m\u001b[1;33m\u001b[0m\u001b[1;33m\u001b[0m\u001b[0m\n\u001b[0m\u001b[0;32m      2\u001b[0m \u001b[0mprint\u001b[0m\u001b[1;33m(\u001b[0m\u001b[0mceil\u001b[0m\u001b[1;33m(\u001b[0m\u001b[1;36m3.7\u001b[0m\u001b[1;33m)\u001b[0m\u001b[1;33m)\u001b[0m\u001b[1;33m\u001b[0m\u001b[1;33m\u001b[0m\u001b[0m\n\u001b[0;32m      3\u001b[0m \u001b[0mprint\u001b[0m\u001b[1;33m(\u001b[0m\u001b[0msqrt\u001b[0m\u001b[1;33m(\u001b[0m\u001b[1;36m36\u001b[0m\u001b[1;33m)\u001b[0m\u001b[1;33m)\u001b[0m\u001b[1;33m\u001b[0m\u001b[1;33m\u001b[0m\u001b[0m\n",
      "\u001b[1;31mNameError\u001b[0m: name 'floor' is not defined"
     ]
    }
   ],
   "source": [
    "\n",
    "print(floor(3.7))             #from math  import * allows us to access math functions like \"floor\" which picks the lower approximation\n",
    "print(ceil(3.7))\n",
    "print(sqrt(36))"
   ]
  },
  {
   "cell_type": "code",
   "execution_count": 22,
   "metadata": {},
   "outputs": [
    {
     "name": "stdout",
     "output_type": "stream",
     "text": [
      "3\n",
      "4\n",
      "6.0\n"
     ]
    }
   ],
   "source": [
    "from math import *\n",
    "print(floor(3.7))             #from math  import * allows us to access math functions like \"floor\" which picks the lower approximation, see above error\n",
    "print(ceil(3.7))\n",
    "print(sqrt(36))"
   ]
  },
  {
   "cell_type": "code",
   "execution_count": 1,
   "metadata": {},
   "outputs": [
    {
     "name": "stdout",
     "output_type": "stream",
     "text": [
      "Enter your name: Kwame\n",
      "Hello my name is Kwame!\n"
     ]
    }
   ],
   "source": [
    "name = input(\"Enter your name: \")\n",
    "print(\"Hello my name is \" + name + \"!\")"
   ]
  },
  {
   "cell_type": "code",
   "execution_count": 22,
   "metadata": {
    "scrolled": true
   },
   "outputs": [
    {
     "name": "stdout",
     "output_type": "stream",
     "text": [
      "Enter your name: morgan\n",
      "Enter your age: 28\n",
      "Hello, my name is morgan! I am 28.\n"
     ]
    }
   ],
   "source": [
    "name = input(\"Enter your name: \")\n",
    "age = input(\"Enter your age: \")\n",
    "print(\"Hello, my name is \" + name + \"! I am \" + age + \".\")"
   ]
  },
  {
   "cell_type": "code",
   "execution_count": 23,
   "metadata": {},
   "outputs": [
    {
     "name": "stdout",
     "output_type": "stream",
     "text": [
      "Enter a number: 2\n",
      "Enter another number: 4\n",
      "24\n"
     ]
    }
   ],
   "source": [
    "#CALCULATOR\n",
    "\n",
    "from math import *\n",
    "num1 = input(\"Enter a number: \")\n",
    "num2 = input(\"Enter another number: \")\n",
    "result = num1 + num2\n",
    "print(result)           #answer is wrong because python defaultly converts the addition to a string"
   ]
  },
  {
   "cell_type": "code",
   "execution_count": 24,
   "metadata": {},
   "outputs": [
    {
     "name": "stdout",
     "output_type": "stream",
     "text": [
      "Enter a number: 2\n",
      "Enter another number: 4\n",
      "6\n"
     ]
    }
   ],
   "source": [
    "#CALCULATOR\n",
    "\n",
    "from math import *\n",
    "num1 = input(\"Enter a number: \")\n",
    "num2 = input(\"Enter another number: \")\n",
    "result = int(num1) + int(num2)          #for whole numbers\n",
    "print(result)   "
   ]
  },
  {
   "cell_type": "code",
   "execution_count": 25,
   "metadata": {},
   "outputs": [
    {
     "name": "stdout",
     "output_type": "stream",
     "text": [
      "Enter a number: 2.3\n",
      "Enter another number: 5.6\n",
      "7.8999999999999995\n"
     ]
    }
   ],
   "source": [
    "#CALCULATOR\n",
    "\n",
    "from math import *\n",
    "num1 = input(\"Enter a number: \")\n",
    "num2 = input(\"Enter another number: \")\n",
    "result = float(num1) + float(num2)      #for decimals\n",
    "print(result)   "
   ]
  },
  {
   "cell_type": "code",
   "execution_count": 26,
   "metadata": {},
   "outputs": [
    {
     "name": "stdout",
     "output_type": "stream",
     "text": [
      "Enter a color: blue\n",
      "Enter a plural noun: sky\n",
      "Enter a celebrity: jackson\n",
      "Roses are blue \n",
      "sky are blue\n",
      "I love jackson.\n"
     ]
    }
   ],
   "source": [
    "#Madlibsgame\n",
    "\n",
    "color = input(\"Enter a color: \")\n",
    "plural_noun = input(\"Enter a plural noun: \")\n",
    "celebrity = input(\"Enter a celebrity: \")\n",
    "\n",
    "print(\"Roses are \" + color + \" \")\n",
    "print(plural_noun + \" are blue\")\n",
    "print(\"I love \" + celebrity + \".\")"
   ]
  },
  {
   "cell_type": "code",
   "execution_count": 2,
   "metadata": {},
   "outputs": [
    {
     "name": "stdout",
     "output_type": "stream",
     "text": [
      "Enter a color: red\n",
      "Enter a plural noun: violets\n",
      "Enter a celebrity: kerfuffle\n",
      "Roses are red, violets are blue, I love kerfuffle.\n"
     ]
    }
   ],
   "source": [
    "#Madlibsgame\n",
    "\n",
    "color = input(\"Enter a color: \")\n",
    "plural_noun = input(\"Enter a plural noun: \")\n",
    "celebrity = input(\"Enter a celebrity: \")\n",
    "\n",
    "print(\"Roses are \" + color + \", \" + plural_noun + \" are blue, \" + \"I love \" + celebrity + \".\")\n"
   ]
  },
  {
   "cell_type": "code",
   "execution_count": 27,
   "metadata": {},
   "outputs": [
    {
     "name": "stdout",
     "output_type": "stream",
     "text": [
      "['kevin', 'Obinna', 'Bobby']\n"
     ]
    }
   ],
   "source": [
    "#Lists--- open and close square brackets are useful for storing lists\n",
    "\n",
    "friends = [\"kevin\", \"Obinna\", \"Bobby\"]\n",
    "print(friends)\n"
   ]
  },
  {
   "cell_type": "code",
   "execution_count": 5,
   "metadata": {},
   "outputs": [
    {
     "name": "stdout",
     "output_type": "stream",
     "text": [
      "kevin\n",
      "Obinna\n",
      "Bobby\n",
      "Bobby\n",
      "Obinna\n",
      "Obinna\n",
      "kevin\n",
      "kevin\n"
     ]
    }
   ],
   "source": [
    "#Lists--- open and close square brackets are useful for storing lists\n",
    "\n",
    "friends = [\"kevin\", \"Obinna\", \"Bobby\"]  #elements start from zero, eg, kevin = index 0\n",
    "print(friends[0])\n",
    "print(friends[1])\n",
    "print(friends[2])\n",
    "print(friends[-1])                    #NOTE USE OF NEGATIVES TO CALL FROM THE BACK\n",
    "print(friends[-2])\n",
    "print(friends[-2])\n",
    "print(friends[-3])\n",
    "print(friends[-0])"
   ]
  },
  {
   "cell_type": "code",
   "execution_count": 4,
   "metadata": {},
   "outputs": [
    {
     "name": "stdout",
     "output_type": "stream",
     "text": [
      "['kevin', 'Obinna', 'Bobby']\n"
     ]
    }
   ],
   "source": [
    "#Lists--- open and close square brackets are useful for storing lists\n",
    "\n",
    "friends = [\"kevin\", \"Obinna\", \"Bobby\"] \n",
    "print(friends[0:3])                      #Note the results"
   ]
  },
  {
   "cell_type": "code",
   "execution_count": 30,
   "metadata": {},
   "outputs": [
    {
     "name": "stdout",
     "output_type": "stream",
     "text": [
      "Jenny\n",
      "kevin\n",
      "Jenny\n"
     ]
    }
   ],
   "source": [
    "#Lists--- ALSO we can modify values inside arrays\n",
    "\n",
    "friends = [\"kevin\", \"Obinna\", \"Bobby\", \"Jenny\"] \n",
    "friends[1] =  \"Jenny\"\n",
    "print(friends[-1])\n",
    "print(friends[-4])\n",
    "print(friends[1])"
   ]
  },
  {
   "cell_type": "code",
   "execution_count": 31,
   "metadata": {},
   "outputs": [
    {
     "name": "stdout",
     "output_type": "stream",
     "text": [
      "['kevin', 'Obinna', 'Bobby', 'Jenny', 4, 8, 15, 16, 23, 42]\n"
     ]
    }
   ],
   "source": [
    "#More on lists\n",
    "Lucky_numbers  = [4, 8, 15, 16, 23, 42]\n",
    "friends = [\"kevin\", \"Obinna\", \"Bobby\", \"Jenny\"]\n",
    "friends.extend(Lucky_numbers)               #Note how to add two lists using \"extend\" function\n",
    "print(friends)\n",
    "\n",
    "\n"
   ]
  },
  {
   "cell_type": "code",
   "execution_count": 23,
   "metadata": {},
   "outputs": [
    {
     "name": "stdout",
     "output_type": "stream",
     "text": [
      "['kevin', 'Obinna', 'Bobby', 'Jenny', 'Creed']\n",
      "[4, 8, 15, 16, 23, 42, 100]\n"
     ]
    }
   ],
   "source": [
    "#More on lists\n",
    "Lucky_numbers  = [4, 8, 15, 16, 23, 42]\n",
    "friends = [\"kevin\", \"Obinna\", \"Bobby\", \"Jenny\"]\n",
    "friends.append(\"Creed\")       #\"append\" function adds an entry to the end of the list\n",
    "Lucky_numbers.append(100)\n",
    "print(friends)\n",
    "print(Lucky_numbers)"
   ]
  },
  {
   "cell_type": "code",
   "execution_count": 4,
   "metadata": {},
   "outputs": [
    {
     "name": "stdout",
     "output_type": "stream",
     "text": [
      "['kevin', 'kelly', 'Obinna', 'ken', 'Bobby', 'Jenny']\n"
     ]
    }
   ],
   "source": [
    "#More on lists\n",
    "Lucky_numbers  = [4, 8, 15, 16, 23, 42]\n",
    "friends = [\"kevin\", \"Obinna\", \"Bobby\", \"Jenny\"]\n",
    "friends.insert(1, \"kelly\")                   #\"insert\" function allows addition to middle of the list, by specifying the index you would like the entry placed, first\n",
    "friends.insert(3, \"ken\") \n",
    "print(friends)"
   ]
  },
  {
   "cell_type": "code",
   "execution_count": 3,
   "metadata": {},
   "outputs": [
    {
     "name": "stdout",
     "output_type": "stream",
     "text": [
      "['Obinna', 'Bobby', 'Jenny', 'Kini']\n",
      "[4, 2, 8, 15, 16, 23, 42]\n"
     ]
    }
   ],
   "source": [
    "#More on lists\n",
    "Lucky_numbers  = [4, 8, 15, 16, 23, 42]\n",
    "friends = [\"kevin\", \"Obinna\", \"Bobby\", \"Jenny\", \"Kini\"]\n",
    "friends.remove(\"kevin\")     #\"remove\" function used to edit lists; here we specify 1 item at a time\n",
    "Lucky_numbers.insert(1, 2)\n",
    "print(friends)\n",
    "print(Lucky_numbers)"
   ]
  },
  {
   "cell_type": "code",
   "execution_count": 66,
   "metadata": {},
   "outputs": [
    {
     "name": "stdout",
     "output_type": "stream",
     "text": [
      "['kevin', 'Obinna', 'Jenny', 'Kini']\n"
     ]
    }
   ],
   "source": [
    "#More on lists\n",
    "Lucky_numbers  = [4, 8, 15, 16, 23, 42]\n",
    "friends = [\"kevin\", \"Obinna\", \"Bobby\", \"Jenny\", \"Kini\"]\n",
    "friends.remove(friends[2])        #\"remove\" function used to edit lists; here we use the index\n",
    "print(friends)"
   ]
  },
  {
   "cell_type": "code",
   "execution_count": 24,
   "metadata": {},
   "outputs": [
    {
     "ename": "TypeError",
     "evalue": "list indices must be integers or slices, not tuple",
     "output_type": "error",
     "traceback": [
      "\u001b[1;31m---------------------------------------------------------------------------\u001b[0m",
      "\u001b[1;31mTypeError\u001b[0m                                 Traceback (most recent call last)",
      "\u001b[1;32m~\\AppData\\Local\\Temp/ipykernel_26016/2197638590.py\u001b[0m in \u001b[0;36m<module>\u001b[1;34m\u001b[0m\n\u001b[0;32m      2\u001b[0m \u001b[0mLucky_numbers\u001b[0m  \u001b[1;33m=\u001b[0m \u001b[1;33m[\u001b[0m\u001b[1;36m4\u001b[0m\u001b[1;33m,\u001b[0m \u001b[1;36m8\u001b[0m\u001b[1;33m,\u001b[0m \u001b[1;36m15\u001b[0m\u001b[1;33m,\u001b[0m \u001b[1;36m16\u001b[0m\u001b[1;33m,\u001b[0m \u001b[1;36m23\u001b[0m\u001b[1;33m,\u001b[0m \u001b[1;36m42\u001b[0m\u001b[1;33m]\u001b[0m\u001b[1;33m\u001b[0m\u001b[1;33m\u001b[0m\u001b[0m\n\u001b[0;32m      3\u001b[0m \u001b[0mfriends\u001b[0m \u001b[1;33m=\u001b[0m \u001b[1;33m[\u001b[0m\u001b[1;34m\"kevin\"\u001b[0m\u001b[1;33m,\u001b[0m \u001b[1;34m\"Obinna\"\u001b[0m\u001b[1;33m,\u001b[0m \u001b[1;34m\"Bobby\"\u001b[0m\u001b[1;33m,\u001b[0m \u001b[1;34m\"Jenny\"\u001b[0m\u001b[1;33m,\u001b[0m \u001b[1;34m\"Kini\"\u001b[0m\u001b[1;33m]\u001b[0m\u001b[1;33m\u001b[0m\u001b[1;33m\u001b[0m\u001b[0m\n\u001b[1;32m----> 4\u001b[1;33m \u001b[0mfriends\u001b[0m\u001b[1;33m.\u001b[0m\u001b[0mremove\u001b[0m\u001b[1;33m(\u001b[0m\u001b[0mfriends\u001b[0m\u001b[1;33m[\u001b[0m\u001b[1;36m0\u001b[0m\u001b[1;33m,\u001b[0m \u001b[1;36m1\u001b[0m\u001b[1;33m]\u001b[0m\u001b[1;33m)\u001b[0m    \u001b[1;31m#can't use array(more like what i've called array here \":\") with index. Also can't use \"(\"kevin\", \"Jenny\")\", etc. has to be one item when specifying the name of item\u001b[0m\u001b[1;33m\u001b[0m\u001b[1;33m\u001b[0m\u001b[0m\n\u001b[0m\u001b[0;32m      5\u001b[0m \u001b[0mprint\u001b[0m\u001b[1;33m(\u001b[0m\u001b[0mfriends\u001b[0m\u001b[1;33m)\u001b[0m\u001b[1;33m\u001b[0m\u001b[1;33m\u001b[0m\u001b[0m\n",
      "\u001b[1;31mTypeError\u001b[0m: list indices must be integers or slices, not tuple"
     ]
    }
   ],
   "source": [
    "#More on lists\n",
    "Lucky_numbers  = [4, 8, 15, 16, 23, 42]\n",
    "friends = [\"kevin\", \"Obinna\", \"Bobby\", \"Jenny\", \"Kini\"]\n",
    "friends.remove(friends[0:1])    #can't use array(more like what i've called array here \":\") with index. Also can't use \"(\"kevin\", \"Jenny\")\", etc. has to be one item when specifying the name of item \n",
    "print(friends)"
   ]
  },
  {
   "cell_type": "code",
   "execution_count": 65,
   "metadata": {},
   "outputs": [
    {
     "name": "stdout",
     "output_type": "stream",
     "text": [
      "[]\n"
     ]
    }
   ],
   "source": [
    "#More on lists\n",
    "Lucky_numbers  = [4, 8, 15, 16, 23, 42]\n",
    "friends = [\"kevin\", \"Obinna\", \"Bobby\", \"Jenny\", \"Kini\"]\n",
    "friends.clear()   #removes all items in list with \"clear\"\n",
    "print(friends)"
   ]
  },
  {
   "cell_type": "code",
   "execution_count": 64,
   "metadata": {},
   "outputs": [
    {
     "name": "stdout",
     "output_type": "stream",
     "text": [
      "['kevin', 'Obinna', 'Bobby', 'Jenny']\n"
     ]
    }
   ],
   "source": [
    "#More on lists\n",
    "Lucky_numbers  = [4, 8, 15, 16, 23, 42]\n",
    "friends = [\"kevin\", \"Obinna\", \"Bobby\", \"Jenny\", \"Kini\"]\n",
    "friends.pop()         #\"pop\" removes last item on list\n",
    "print(friends)"
   ]
  },
  {
   "cell_type": "code",
   "execution_count": 26,
   "metadata": {},
   "outputs": [
    {
     "name": "stdout",
     "output_type": "stream",
     "text": [
      "2\n"
     ]
    }
   ],
   "source": [
    "#More on lists\n",
    "Lucky_numbers  = [4, 8, 15, 16, 23, 42]\n",
    "friends = [\"kevin\", \"Obinna\", \"Bobby\", \"Jenny\", \"Kini\"]\n",
    "\n",
    "print(friends.index(\"Bobby\"))      #gives the index of a specific element in the list"
   ]
  },
  {
   "cell_type": "code",
   "execution_count": 62,
   "metadata": {},
   "outputs": [
    {
     "name": "stdout",
     "output_type": "stream",
     "text": [
      "2\n"
     ]
    }
   ],
   "source": [
    "#More on lists\n",
    "Lucky_numbers  = [4, 8, 15, 16, 23, 42]\n",
    "friends = [\"kevin\", \"Obinna\", \"Bobby\", \"Jenny\", \"Kini\", \"kevin\"]\n",
    "\n",
    "print(friends.count(\"kevin\"))    #\"count\" gives number of times an item is on a list"
   ]
  },
  {
   "cell_type": "code",
   "execution_count": 61,
   "metadata": {},
   "outputs": [
    {
     "name": "stdout",
     "output_type": "stream",
     "text": [
      "['Bobby', 'Jenny', 'Kini', 'Obinna', 'kevin', 'kevin']\n",
      "[4, 8, 8, 15, 16, 42]\n",
      "2\n"
     ]
    }
   ],
   "source": [
    "#More on lists\n",
    "Lucky_numbers  = [4, 8, 42, 16, 8, 15]\n",
    "friends = [\"kevin\", \"Obinna\", \"Bobby\", \"Jenny\", \"Kini\", \"kevin\"]\n",
    "friends.sort()                       #\"sort\" function sorts, duh!\n",
    "Lucky_numbers.sort()\n",
    "print(friends)\n",
    "print(Lucky_numbers)\n",
    "print(Lucky_numbers.count(8))      #numbers here won't work with quote marks"
   ]
  },
  {
   "cell_type": "code",
   "execution_count": 60,
   "metadata": {},
   "outputs": [
    {
     "name": "stdout",
     "output_type": "stream",
     "text": [
      "[15, 8, 16, 42, 8, 4]\n"
     ]
    }
   ],
   "source": [
    "#More on lists\n",
    "Lucky_numbers  = [4, 8, 42, 16, 8, 15]\n",
    "Lucky_numbers.reverse()   #to reverse arrangement\n",
    "print(Lucky_numbers)"
   ]
  },
  {
   "cell_type": "code",
   "execution_count": 32,
   "metadata": {},
   "outputs": [
    {
     "name": "stdout",
     "output_type": "stream",
     "text": [
      "['kevin', 'Obinna', 'Bobby', 'Jenny', 'Kini', 'kevin']\n"
     ]
    }
   ],
   "source": [
    "#More on lists\n",
    "Lucky_numbers  = [4, 8, 42, 16, 8, 15]\n",
    "friends = [\"kevin\", \"Obinna\", \"Bobby\", \"Jenny\", \"Kini\", \"kevin\"]\n",
    "friends2 = [\"Larry\", \"Jeff\"]\n",
    "friends2 = friends.copy()      #copying lists\n",
    "print(friends2)"
   ]
  },
  {
   "cell_type": "code",
   "execution_count": 58,
   "metadata": {},
   "outputs": [
    {
     "name": "stdout",
     "output_type": "stream",
     "text": [
      "4\n",
      "5\n"
     ]
    }
   ],
   "source": [
    "#Tuples - a container for storing different values, similar to a list\n",
    "\n",
    "coordinates = (4, 5)  #it cannot be changed once set, difference between tuppleand list can be seen as a list uses square brackets here, also a list can be changed\n",
    "print(coordinates[0])\n",
    "print(coordinates[1])"
   ]
  },
  {
   "cell_type": "code",
   "execution_count": 2,
   "metadata": {},
   "outputs": [
    {
     "ename": "SyntaxError",
     "evalue": "cannot assign to function call (<ipython-input-2-30a8a1ddcc99>, line 3)",
     "output_type": "error",
     "traceback": [
      "\u001b[1;36m  File \u001b[1;32m\"<ipython-input-2-30a8a1ddcc99>\"\u001b[1;36m, line \u001b[1;32m3\u001b[0m\n\u001b[1;33m    coordinates(1) = 10       #see that it cannot be changed once set, we get an error\u001b[0m\n\u001b[1;37m    ^\u001b[0m\n\u001b[1;31mSyntaxError\u001b[0m\u001b[1;31m:\u001b[0m cannot assign to function call\n"
     ]
    }
   ],
   "source": [
    "#more on tuples\n",
    "coordinates = (4, 5)  \n",
    "coordinates[1] = 10       #see that it cannot be changed once set, we get an error\n",
    "print(coordinates[1]) \n"
   ]
  },
  {
   "cell_type": "code",
   "execution_count": 7,
   "metadata": {},
   "outputs": [
    {
     "name": "stdout",
     "output_type": "stream",
     "text": [
      "10\n",
      "[4, 10]\n"
     ]
    }
   ],
   "source": [
    "coordinates = [4, 5]  \n",
    "coordinates[1] = 10       #see what happens when i try the same as a list\n",
    "print(coordinates[1]) \n",
    "print(coordinates)"
   ]
  },
  {
   "cell_type": "code",
   "execution_count": 8,
   "metadata": {},
   "outputs": [
    {
     "name": "stdout",
     "output_type": "stream",
     "text": [
      "5\n",
      "[4, 5, 10]\n"
     ]
    }
   ],
   "source": [
    "coordinates = [4, 5]  \n",
    "coordinates.append(10)       \n",
    "print(coordinates[1]) \n",
    "print(coordinates)"
   ]
  },
  {
   "cell_type": "code",
   "execution_count": 56,
   "metadata": {},
   "outputs": [
    {
     "name": "stdout",
     "output_type": "stream",
     "text": [
      "Hello User\n"
     ]
    }
   ],
   "source": [
    "#FUNCTIONS - collection of code which performs specific task\n",
    "\n",
    "#need to indent after writing function\n",
    "def say_hi():\n",
    "    print(\"Hello User\")\n",
    "\n",
    "#now we need to call the function\n",
    "say_hi()\n"
   ]
  },
  {
   "cell_type": "code",
   "execution_count": 13,
   "metadata": {},
   "outputs": [
    {
     "name": "stdout",
     "output_type": "stream",
     "text": [
      "Top\n",
      "Hello User\n",
      "bottom\n"
     ]
    }
   ],
   "source": [
    "#More function          \n",
    "#we want to name functions in lowercase\n",
    "def say_hi():\n",
    "    print(\"Hello User\")\n",
    "\n",
    "print(\"Top\")\n",
    "say_hi()\n",
    "print(\"bottom\")"
   ]
  },
  {
   "cell_type": "code",
   "execution_count": 54,
   "metadata": {},
   "outputs": [
    {
     "name": "stdout",
     "output_type": "stream",
     "text": [
      "Hello Morgan\n",
      "Hello Chizee\n"
     ]
    }
   ],
   "source": [
    "#More function   \n",
    "\n",
    "def say_hi(name):\n",
    "    print(\"Hello \" + name)\n",
    "\n",
    "say_hi(\"Morgan\")\n",
    "say_hi(\"Chizee\")"
   ]
  },
  {
   "cell_type": "code",
   "execution_count": 1,
   "metadata": {},
   "outputs": [
    {
     "name": "stdout",
     "output_type": "stream",
     "text": [
      "Hello Morgan, you are 28\n",
      "Hello Chizee, you are 70.\n"
     ]
    }
   ],
   "source": [
    "#More function\n",
    "\n",
    "def say_hi(name, age):\n",
    "    print(\"Hello \" + name + \", you are \" + age)\n",
    "\n",
    "say_hi(\"Morgan\", str(28))     #I can play with the str here\n",
    "say_hi(\"Chizee\", \"70.\")"
   ]
  },
  {
   "cell_type": "code",
   "execution_count": 2,
   "metadata": {},
   "outputs": [
    {
     "name": "stdout",
     "output_type": "stream",
     "text": [
      "Enter your name: morgan\n",
      "Enter your age: 20\n",
      "Hello morgan, you are 20\n"
     ]
    }
   ],
   "source": [
    "name = input(\"Enter your name: \")\n",
    "age = input(\"Enter your age: \")\n",
    "\n",
    "def say_hi(name, age):\n",
    "    print(\"Hello \" + name + \", you are \" + age)    #     this worked w/o \"str\" strangely\n",
    "\n",
    "    \n",
    "\n",
    "say_hi(name, age)\n"
   ]
  },
  {
   "cell_type": "code",
   "execution_count": 52,
   "metadata": {},
   "outputs": [
    {
     "name": "stdout",
     "output_type": "stream",
     "text": [
      "Hello Morgan, you are 28.\n",
      "Hello Chizee, you are 70.\n"
     ]
    }
   ],
   "source": [
    "#More function\n",
    "\n",
    "def say_hi(name, age):\n",
    "    print(\"Hello \" + name + \", you are \" + str(age) + \".\")\n",
    "\n",
    "say_hi(\"Morgan\", 28)\n",
    "say_hi(\"Chizee\", 70)"
   ]
  },
  {
   "cell_type": "code",
   "execution_count": 51,
   "metadata": {},
   "outputs": [
    {
     "data": {
      "text/plain": [
       "27"
      ]
     },
     "execution_count": 51,
     "metadata": {},
     "output_type": "execute_result"
    }
   ],
   "source": [
    "#return statement in python functions\n",
    "\n",
    "def cube(num):\n",
    "    return num*num*num\n",
    "    \n",
    "cube(3)\n",
    "\n"
   ]
  },
  {
   "cell_type": "code",
   "execution_count": 7,
   "metadata": {},
   "outputs": [
    {
     "name": "stdout",
     "output_type": "stream",
     "text": [
      "64\n"
     ]
    }
   ],
   "source": [
    "#return statement in python functions\n",
    "\n",
    "def cube(num):\n",
    "    return num*num*num\n",
    "    print(\"code\")                                        #can't put code after return func\n",
    "\n",
    "result = cube(4)\n",
    "print(result)\n"
   ]
  },
  {
   "cell_type": "code",
   "execution_count": 49,
   "metadata": {},
   "outputs": [
    {
     "name": "stdout",
     "output_type": "stream",
     "text": [
      "You are a male\n"
     ]
    }
   ],
   "source": [
    "#IF statement\n",
    "\n",
    "is_male = True\n",
    "\n",
    "if is_male:\n",
    "    print(\"You are a male\")"
   ]
  },
  {
   "cell_type": "code",
   "execution_count": 4,
   "metadata": {},
   "outputs": [],
   "source": [
    "#more IF statement\n",
    "\n",
    "is_male = False\n",
    "\n",
    "if is_male:\n",
    "    print(\"You are a male\")   #No print out cuz condition was not met"
   ]
  },
  {
   "cell_type": "code",
   "execution_count": 48,
   "metadata": {},
   "outputs": [
    {
     "name": "stdout",
     "output_type": "stream",
     "text": [
      "fuck off\n"
     ]
    }
   ],
   "source": [
    "#more IF statement\n",
    "\n",
    "is_male = False\n",
    "\n",
    "if is_male:\n",
    "    print(\"You are a male\") \n",
    "else:\n",
    "    print(\"fuck off\")"
   ]
  },
  {
   "cell_type": "code",
   "execution_count": 45,
   "metadata": {},
   "outputs": [
    {
     "name": "stdout",
     "output_type": "stream",
     "text": [
      "You are not male\n",
      "haha\n"
     ]
    }
   ],
   "source": [
    "#more IF statement\n",
    "\n",
    "is_male = False\n",
    "\n",
    "if is_male:\n",
    "    print(\"You are a male\")\n",
    "    print(\"you mofo\")\n",
    "else:\n",
    "    print(\"You are not male\")\n",
    "    print(\"haha\")"
   ]
  },
  {
   "cell_type": "code",
   "execution_count": 44,
   "metadata": {},
   "outputs": [
    {
     "name": "stdout",
     "output_type": "stream",
     "text": [
      "You are a male or tall or both\n"
     ]
    }
   ],
   "source": [
    "#more IF statement\n",
    "\n",
    "is_male = True\n",
    "is_tall = True\n",
    "\n",
    "if is_male or is_tall:\n",
    "    print(\"You are a male or tall or both\")\n",
    "    \n",
    "else:\n",
    "    print(\"You are not male or tall\")\n",
    "   "
   ]
  },
  {
   "cell_type": "code",
   "execution_count": 43,
   "metadata": {},
   "outputs": [
    {
     "name": "stdout",
     "output_type": "stream",
     "text": [
      "You are a male or tall or both\n"
     ]
    }
   ],
   "source": [
    "#more IF statement\n",
    "\n",
    "is_male = True\n",
    "is_tall = False\n",
    "\n",
    "if is_male or is_tall:\n",
    "    print(\"You are a male or tall or both\")\n",
    "    \n",
    "else:\n",
    "    print(\"You are not male or tall\")"
   ]
  },
  {
   "cell_type": "code",
   "execution_count": 42,
   "metadata": {},
   "outputs": [
    {
     "name": "stdout",
     "output_type": "stream",
     "text": [
      "You are not male or tall\n"
     ]
    }
   ],
   "source": [
    "#more IF statement\n",
    "\n",
    "is_male = False\n",
    "is_tall = False\n",
    "\n",
    "if is_male or is_tall:\n",
    "    print(\"You are a male or tall or both\")\n",
    "    \n",
    "else:\n",
    "    print(\"You are not male or tall\")"
   ]
  },
  {
   "cell_type": "code",
   "execution_count": 41,
   "metadata": {},
   "outputs": [
    {
     "name": "stdout",
     "output_type": "stream",
     "text": [
      "You are not male or not tall or both\n"
     ]
    }
   ],
   "source": [
    "#more IF statement\n",
    "\n",
    "is_male = True\n",
    "is_tall = False\n",
    "\n",
    "if is_male and is_tall:\n",
    "    print(\"You are a tall male\")\n",
    "    \n",
    "else:\n",
    "    print(\"You are not male or not tall or both\")"
   ]
  },
  {
   "cell_type": "code",
   "execution_count": 40,
   "metadata": {},
   "outputs": [
    {
     "name": "stdout",
     "output_type": "stream",
     "text": [
      "You are a tall male\n"
     ]
    }
   ],
   "source": [
    "#more IF statement\n",
    "\n",
    "is_male = True\n",
    "is_tall = True\n",
    "\n",
    "if is_male and is_tall:\n",
    "    print(\"You are a tall male\")\n",
    "    \n",
    "else:\n",
    "    print(\"You are not male or not tall or both\")"
   ]
  },
  {
   "cell_type": "code",
   "execution_count": 39,
   "metadata": {},
   "outputs": [
    {
     "name": "stdout",
     "output_type": "stream",
     "text": [
      "You are not male, but are tall\n"
     ]
    }
   ],
   "source": [
    "#more IF statement   #elif = elseif\n",
    "\n",
    "is_male = False\n",
    "is_tall = True\n",
    "\n",
    "if is_male and is_tall:\n",
    "    print(\"You are a tall male\")  \n",
    "elif is_male and not(is_tall):\n",
    "    print(\"You are a short male\")\n",
    "elif not(is_male) and is_tall:\n",
    "    print(\"You are not male, but are tall\")\n",
    "\n",
    "else:\n",
    "    print(\"You are not male or not tall\")"
   ]
  },
  {
   "cell_type": "code",
   "execution_count": 9,
   "metadata": {},
   "outputs": [
    {
     "data": {
      "text/plain": [
       "3000"
      ]
     },
     "execution_count": 9,
     "metadata": {},
     "output_type": "execute_result"
    }
   ],
   "source": [
    "#more IF statement - using comparisons\n",
    "\n",
    "def max_num(num1, num2, num3):\n",
    "    if num1 >= num2 and num1 >= num3:\n",
    "        return num1\n",
    "    elif num2 >= num1 and num2 >= num3:\n",
    "        return num2\n",
    "    else:\n",
    "        return num3\n",
    "\n",
    "print(max_num(3000, 400, 5))"
   ]
  },
  {
   "cell_type": "code",
   "execution_count": 7,
   "metadata": {},
   "outputs": [
    {
     "data": {
      "text/plain": [
       "True"
      ]
     },
     "execution_count": 7,
     "metadata": {},
     "output_type": "execute_result"
    }
   ],
   "source": [
    "2==2\n"
   ]
  },
  {
   "cell_type": "code",
   "execution_count": 8,
   "metadata": {},
   "outputs": [
    {
     "data": {
      "text/plain": [
       "False"
      ]
     },
     "execution_count": 8,
     "metadata": {},
     "output_type": "execute_result"
    }
   ],
   "source": [
    "2!=2"
   ]
  },
  {
   "cell_type": "code",
   "execution_count": 9,
   "metadata": {},
   "outputs": [
    {
     "name": "stdout",
     "output_type": "stream",
     "text": [
      "enter first number: 2\n",
      "enter operator: /\n",
      "enter second number: 6\n",
      "0.3333333333333333\n"
     ]
    }
   ],
   "source": [
    "#Building a calculator\n",
    "\n",
    "num1 = float(input(\"enter first number: \"))\n",
    "op = input(\"enter operator: \")\n",
    "num2 = float(input(\"enter second number: \"))\n",
    "\n",
    "if op == \"+\":\n",
    "    print(num1 + num2)\n",
    "elif op == \"-\":\n",
    "    print(num1 - num2)\n",
    "elif op == \"/\":\n",
    "    print(num1 / num2)\n",
    "elif op == \"*\":\n",
    "    print(num1 * num2)\n",
    "elif op == \"**\":\n",
    "    print(num1 ** num2)\n",
    "else:\n",
    "    print(\"invalid operator\")"
   ]
  },
  {
   "cell_type": "code",
   "execution_count": 38,
   "metadata": {},
   "outputs": [
    {
     "name": "stdout",
     "output_type": "stream",
     "text": [
      "enter first number: 2\n",
      "enter operator: **\n",
      "enter second number: 4\n",
      "16.0\n"
     ]
    }
   ],
   "source": [
    "num1 = float(input(\"enter first number: \"))\n",
    "op = input(\"enter operator: \")\n",
    "num2 = float(input(\"enter second number: \"))\n",
    "\n",
    "if op == \"+\":\n",
    "    print(num1 + num2)\n",
    "elif op == \"-\":\n",
    "    print(num1 - num2)\n",
    "elif op == \"/\":\n",
    "    print(num1 / num2)\n",
    "elif op == \"*\":\n",
    "    print(num1 * num2)\n",
    "elif op == \"**\":\n",
    "    print(num1 ** num2)\n",
    "else:\n",
    "    print(\"invalid operator\")"
   ]
  },
  {
   "cell_type": "code",
   "execution_count": 2,
   "metadata": {},
   "outputs": [
    {
     "name": "stdout",
     "output_type": "stream",
     "text": [
      "November\n",
      "March\n",
      "None\n",
      "None\n",
      "Not a valid key\n"
     ]
    }
   ],
   "source": [
    "#dictionaries\n",
    "\n",
    "month_conversions = {\n",
    "    \"Jan\": \"January\",\n",
    "    \"Feb\": \"February\",\n",
    "    \"Mar\": \"March\",\n",
    "    \"Apr\": \"April\",\n",
    "    \"May\": \"May\",\n",
    "    \"Jun\": \"June\",\n",
    "    \"Jul\": \"July\",\n",
    "    \"Aug\": \"August\",\n",
    "    \"Sep\": \"September\",\n",
    "    \"Oct\": \"October\",\n",
    "    \"Nov\": \"November\",\n",
    "    \"Dec\": \"December\",\n",
    "}\n",
    "\n",
    "print(month_conversions[\"Nov\"])\n",
    "print(month_conversions.get(\"Mar\"))\n",
    "print(month_conversions.get(\"Luv\"))\n",
    "print(month_conversions.get(\"Gan\"))\n",
    "print(month_conversions.get(\"Luv\", \"Not a valid key\"))"
   ]
  },
  {
   "cell_type": "code",
   "execution_count": 2,
   "metadata": {},
   "outputs": [
    {
     "name": "stdout",
     "output_type": "stream",
     "text": [
      "Enter month: Nov\n",
      "November\n"
     ]
    }
   ],
   "source": [
    "month_conversions = {\n",
    "    \"Jan\": \"January\",\n",
    "    \"Feb\": \"February\",\n",
    "    \"Mar\": \"March\",\n",
    "    \"Apr\": \"April\",\n",
    "    \"May\": \"May\",\n",
    "    \"Jun\": \"June\",\n",
    "    \"Jul\": \"July\",\n",
    "    \"Aug\": \"August\",\n",
    "    \"Sep\": \"September\",\n",
    "    \"Oct\": \"October\",\n",
    "    \"Nov\": \"November\",\n",
    "    \"Dec\": \"December\",\n",
    "}\n",
    "\n",
    "month = input(\"Enter month: \")\n",
    "\n",
    "\n",
    "\n",
    "print(month_conversions.get(month))\n",
    "\n",
    "# print(month_conversions.get(\"Mar\"))\n",
    "# print(month_conversions.get(\"Luv\"))\n",
    "# print(month_conversions.get(\"Luv\", \"Not a valid key\"))"
   ]
  },
  {
   "cell_type": "code",
   "execution_count": 4,
   "metadata": {},
   "outputs": [
    {
     "ename": "SyntaxError",
     "evalue": "invalid syntax (Temp/ipykernel_31428/3561098969.py, line 18)",
     "output_type": "error",
     "traceback": [
      "\u001b[1;36m  File \u001b[1;32m\"C:\\Users\\omodu\\AppData\\Local\\Temp/ipykernel_31428/3561098969.py\"\u001b[1;36m, line \u001b[1;32m18\u001b[0m\n\u001b[1;33m    while month is not in range(month_conversions)\u001b[0m\n\u001b[1;37m                       ^\u001b[0m\n\u001b[1;31mSyntaxError\u001b[0m\u001b[1;31m:\u001b[0m invalid syntax\n"
     ]
    }
   ],
   "source": [
    "month_conversions = {\n",
    "    \"Jan\": \"January\",\n",
    "    \"Feb\": \"February\",\n",
    "    \"Mar\": \"March\",\n",
    "    \"Apr\": \"April\",\n",
    "    \"May\": \"May\",\n",
    "    \"Jun\": \"June\",\n",
    "    \"Jul\": \"July\",\n",
    "    \"Aug\": \"August\",\n",
    "    \"Sep\": \"September\",\n",
    "    \"Oct\": \"October\",\n",
    "    \"Nov\": \"November\",\n",
    "    \"Dec\": \"December\",\n",
    "}\n",
    "\n",
    "\n",
    "\n",
    "while month is not in range(month_conversions) \n",
    "    print(\"Not a valid key\")\n",
    "    month = input(\"Enter month: \")\n",
    "\n",
    "print(month_conversions.get(month))\n",
    "\n",
    "# print(month_conversions.get(\"Mar\"))\n",
    "# print(month_conversions.get(\"Luv\"))\n",
    "# print(month_conversions.get(\"Luv\", \"Not a valid key\"))"
   ]
  },
  {
   "cell_type": "code",
   "execution_count": 74,
   "metadata": {},
   "outputs": [
    {
     "name": "stdout",
     "output_type": "stream",
     "text": [
      "1\n",
      "2\n",
      "3\n",
      "4\n",
      "5\n",
      "6\n",
      "7\n",
      "8\n",
      "9\n",
      "10\n",
      "end of loop\n"
     ]
    }
   ],
   "source": [
    "#While loop\n",
    "\n",
    "i = 1                                     #condition below\n",
    "while i <= 10:\n",
    "    print(i)\n",
    "    i = i + 1\n",
    "print(\"end of loop\")\n",
    "    "
   ]
  },
  {
   "cell_type": "code",
   "execution_count": 4,
   "metadata": {},
   "outputs": [
    {
     "name": "stdout",
     "output_type": "stream",
     "text": [
      "1\n",
      "2\n",
      "3\n",
      "4\n",
      "5\n",
      "6\n",
      "7\n",
      "8\n",
      "9\n",
      "10\n",
      "end of loop\n"
     ]
    }
   ],
   "source": [
    "#While loop\n",
    "\n",
    "i = 1                                     #condition below\n",
    "while i <= 10: \n",
    "    print(i)\n",
    "    i += 1                            #shorthand for i = i + 1\n",
    "print(\"end of loop\")"
   ]
  },
  {
   "cell_type": "code",
   "execution_count": 1,
   "metadata": {
    "scrolled": false
   },
   "outputs": [
    {
     "name": "stdout",
     "output_type": "stream",
     "text": [
      "Enter guess: milly\n",
      "Enter guess: havey\n",
      "Enter guess: giraffe\n",
      "you win\n"
     ]
    }
   ],
   "source": [
    "#Building a guessing game\n",
    "secret_word = \"giraffe\"\n",
    "guess = \"\"\n",
    "\n",
    "while guess != secret_word:\n",
    "    guess = input(\"Enter guess: \")\n",
    "\n",
    "print(\"you win\")"
   ]
  },
  {
   "cell_type": "code",
   "execution_count": 4,
   "metadata": {},
   "outputs": [
    {
     "name": "stdout",
     "output_type": "stream",
     "text": [
      "Enter guess: lame\n",
      "wrong entry, try again\n",
      "Enter guess: favor\n",
      "wrong entry, try again\n",
      "Enter guess: giraffe\n",
      "you win\n"
     ]
    }
   ],
   "source": [
    "#Building a guessing game\n",
    "secret_word = \"giraffe\"\n",
    "guess = \"\"\n",
    "\n",
    "while guess != secret_word:\n",
    "    guess = input(\"Enter guess: \")\n",
    "    if guess != secret_word:\n",
    "        print(\"wrong entry, try again\")\n",
    "\n",
    "if guess == secret_word:\n",
    "    print(\"you win\")\n"
   ]
  },
  {
   "cell_type": "code",
   "execution_count": 3,
   "metadata": {},
   "outputs": [
    {
     "name": "stdout",
     "output_type": "stream",
     "text": [
      "Enter guess: haha\n",
      "Enter guess: dsjjs\n",
      "Enter guess: ueud\n",
      "Out of guesses, YOU LOSE!\n"
     ]
    }
   ],
   "source": [
    "#Building a guessing game - improving\n",
    "secret_word = \"giraffe\"\n",
    "guess = \"xander\"            #doesnt matter if i put a word in guess here\n",
    "i = 0\n",
    "i_limit = 3             #could have named i, guess_limit and so on, but i chose to use i, here\n",
    "out_of_tries = False\n",
    "\n",
    "while guess != secret_word and not(out_of_tries):\n",
    "    if i < i_limit:\n",
    "        guess = input(\"Enter guess: \")\n",
    "        i += 1\n",
    "    else:\n",
    "        out_of_tries = True\n",
    "\n",
    "if out_of_tries:\n",
    "    print(\"Out of guesses, YOU LOSE!\")\n",
    "else:\n",
    "    print(\"you win!\")\n",
    "\n"
   ]
  },
  {
   "cell_type": "code",
   "execution_count": 57,
   "metadata": {},
   "outputs": [
    {
     "name": "stdout",
     "output_type": "stream",
     "text": [
      "Enter guess: tak\n",
      "Enter guess: hae\n",
      "Enter guess: giraffe\n",
      "you win!\n"
     ]
    }
   ],
   "source": [
    "#Building a guessing game - improving\n",
    "secret_word = \"giraffe\"\n",
    "guess = \"\"\n",
    "i = 0\n",
    "i_limit = 3             #could have named i, guess_limit and so on, but i chose to use i, here\n",
    "out_of_tries = False\n",
    "\n",
    "while guess != secret_word and not(out_of_tries):\n",
    "    if i < i_limit:\n",
    "        guess = input(\"Enter guess: \")\n",
    "        i += 1\n",
    "    else:\n",
    "        out_of_tries = True\n",
    "\n",
    "if out_of_tries:\n",
    "    print(\"Out of guesses, YOU LOSE!\")\n",
    "else:\n",
    "    print(\"you win!\")\n"
   ]
  },
  {
   "cell_type": "code",
   "execution_count": 65,
   "metadata": {},
   "outputs": [
    {
     "name": "stdout",
     "output_type": "stream",
     "text": [
      "Enter guess: worl\n",
      "wrong input! You have two more tries\n",
      "Enter guess: gerry\n",
      "wrong input! You have one more try\n",
      "Enter guess: giraffe\n",
      "you win!\n"
     ]
    }
   ],
   "source": [
    "#Building a guessing game - improving\n",
    "secret_word = \"giraffe\"\n",
    "guess = \"\"\n",
    "i = 0\n",
    "i_limit = 3             #could have named i, guess_limit and so on, but i chose to use i, here\n",
    "out_of_tries = False\n",
    "\n",
    "while guess != secret_word and not(out_of_tries):\n",
    "    if i < i_limit:\n",
    "        guess = input(\"Enter guess: \")\n",
    "        i += 1\n",
    "        if i == i_limit - 2 and guess != secret_word:\n",
    "            print(\"wrong input! You have two more tries\") \n",
    "        elif i == i_limit - 1 and guess != secret_word:\n",
    "            print(\"wrong input! You have one more try\")\n",
    "    else:\n",
    "        out_of_tries = True\n",
    "\n",
    "if out_of_tries:\n",
    "    print(\"Out of guesses, YOU LOSE!\")\n",
    "else:\n",
    "    print(\"you win!\")\n"
   ]
  },
  {
   "cell_type": "code",
   "execution_count": 8,
   "metadata": {},
   "outputs": [
    {
     "name": "stdout",
     "output_type": "stream",
     "text": [
      "g\n",
      "i\n",
      "r\n",
      "a\n",
      "f\n",
      "f\n",
      "e\n",
      " \n",
      "A\n",
      "c\n",
      "a\n",
      "d\n",
      "e\n",
      "m\n",
      "y\n"
     ]
    }
   ],
   "source": [
    "#For loop\n",
    "for letter in \"giraffe Academy\":\n",
    "    print(letter)\n"
   ]
  },
  {
   "cell_type": "code",
   "execution_count": 9,
   "metadata": {},
   "outputs": [
    {
     "name": "stdout",
     "output_type": "stream",
     "text": [
      "g\n",
      "i\n",
      "r\n",
      "a\n",
      "f\n",
      "f\n",
      "e\n",
      " \n",
      "A\n",
      "c\n",
      "a\n",
      "d\n",
      "e\n",
      "m\n",
      "y\n"
     ]
    }
   ],
   "source": [
    "#For loop\n",
    "for hnt in \"giraffe Academy\":\n",
    "    print(hnt)                               #note how \"letter\" didnt matter. I used a random \"hnt\" here and it still worked"
   ]
  },
  {
   "cell_type": "code",
   "execution_count": 12,
   "metadata": {},
   "outputs": [
    {
     "name": "stdout",
     "output_type": "stream",
     "text": [
      "Jim\n",
      "Obinna\n",
      "Bobby\n",
      "Cristian\n"
     ]
    }
   ],
   "source": [
    "#for loop cont'd\n",
    "friends = [\"Jim\", \"Obinna\", \"Bobby\", \"Cristian\"]\n",
    "for friend in friends:                                             #note use of, friend here, its basically naming the variable on the go\n",
    "    print(friend)"
   ]
  },
  {
   "cell_type": "code",
   "execution_count": 8,
   "metadata": {},
   "outputs": [
    {
     "name": "stdout",
     "output_type": "stream",
     "text": [
      "0\n",
      "1\n",
      "2\n",
      "3\n",
      "4\n",
      "5\n",
      "6\n",
      "7\n",
      "8\n",
      "9\n"
     ]
    }
   ],
   "source": [
    "#for loop cont'd\n",
    "for index in range(10):\n",
    "    print(index)                                                  #notice in the result that 10 isn't printed. Ive also noticed the for loop simply calls whats in range, no matter the variable, so in this sense \"giraffe academy\" is a list sort of."
   ]
  },
  {
   "cell_type": "code",
   "execution_count": 7,
   "metadata": {},
   "outputs": [
    {
     "name": "stdout",
     "output_type": "stream",
     "text": [
      "3\n",
      "4\n",
      "5\n",
      "6\n",
      "7\n",
      "8\n",
      "9\n"
     ]
    }
   ],
   "source": [
    "#for loop cont'd\n",
    "friends = [\"Jim\", \"Obinna\", \"Bobby\", \"Cristian\"]\n",
    "for index in range(3, 10):                                            \n",
    "    print(index)"
   ]
  },
  {
   "cell_type": "code",
   "execution_count": 17,
   "metadata": {},
   "outputs": [
    {
     "name": "stdout",
     "output_type": "stream",
     "text": [
      "Cristian\n"
     ]
    }
   ],
   "source": [
    "#for loop cont'd\n",
    "friends = [\"Jim\", \"Obinna\", \"Bobby\", \"Cristian\"]\n",
    "for index in range(len(friends)):\n",
    "    print(friends[3])\n",
    "    break\n",
    "    \n",
    "                   "
   ]
  },
  {
   "cell_type": "code",
   "execution_count": 18,
   "metadata": {},
   "outputs": [
    {
     "name": "stdout",
     "output_type": "stream",
     "text": [
      "first iteration\n",
      "not first\n",
      "not first\n",
      "not first\n"
     ]
    }
   ],
   "source": [
    "#for loop cont'd\n",
    "friends = [\"Jim\", \"Obinna\", \"Bobby\", \"Cristian\"]\n",
    "for index in range(4):\n",
    "    if index == 0:\n",
    "        print(\"first iteration\")\n",
    "    else:\n",
    "        print(\"not first\")\n",
    "        \n",
    "#Note the five iterations in the results\n",
    "    "
   ]
  },
  {
   "cell_type": "code",
   "execution_count": 13,
   "metadata": {},
   "outputs": [
    {
     "name": "stdout",
     "output_type": "stream",
     "text": [
      "8\n"
     ]
    }
   ],
   "source": [
    "#for loop cont'd - exponent function\n",
    "print(2**3)\n"
   ]
  },
  {
   "cell_type": "code",
   "execution_count": 20,
   "metadata": {},
   "outputs": [
    {
     "name": "stdout",
     "output_type": "stream",
     "text": [
      "8\n",
      "1024\n"
     ]
    }
   ],
   "source": [
    "#for loop cont'd - exponent function - we can replicate the answer above using for loop\n",
    "def raise_to_power(base_num, pow_num):\n",
    "    result = 1                       #we need the variable result, to store the new information in each for loop iteratio, ie for the range(pow_num) specified\n",
    "    for latex in range(pow_num):            #note that i used \"latex\" here to show that calling it \"index\" makes no difference to outcome\n",
    "        result = result * base_num\n",
    "    return result\n",
    "\n",
    "print(raise_to_power(2, 3))\n",
    "print(raise_to_power(2, 10))\n",
    "    "
   ]
  },
  {
   "cell_type": "code",
   "execution_count": 38,
   "metadata": {},
   "outputs": [
    {
     "name": "stdout",
     "output_type": "stream",
     "text": [
      "Enter a base number: 2.4\n",
      "Enter a power number: 3.2\n",
      "13.824\n"
     ]
    }
   ],
   "source": [
    "#improving \n",
    "\n",
    "def raise_to_power(base_num, pow_num):\n",
    "    result = 1     \n",
    "    for index in range(int(pow_num)):           #the 'int' here is very important to prevent a type error handling 'range' with 'float' \n",
    "        result = result * base_num\n",
    "    return result\n",
    "\n",
    "#inputs\n",
    "b = float(input(\"Enter a base number: \"))\n",
    "p = float(input(\"Enter a power number: \")) \n",
    "\n",
    "#call function\n",
    "print(raise_to_power(b,p))\n",
    "\n",
    "#OR\n",
    "#r = raise_to_power(b, p)\n",
    "#print(r)"
   ]
  },
  {
   "cell_type": "code",
   "execution_count": 17,
   "metadata": {},
   "outputs": [
    {
     "name": "stdout",
     "output_type": "stream",
     "text": [
      "1\n"
     ]
    }
   ],
   "source": [
    "#2D lists and nested loops -lists within a list\n",
    "number_grid = [\n",
    "    [1, 2, 3],\n",
    "    [4, 5, 6],                         #we have 4 elements which are lists themselves. with this, we can create a 2D grid within python\n",
    "    [7, 8, 9],\n",
    "    [0]\n",
    "]\n",
    "\n",
    "print(number_grid[0][0])                      #first sq bracket is for row, second is for column"
   ]
  },
  {
   "cell_type": "code",
   "execution_count": 18,
   "metadata": {},
   "outputs": [
    {
     "name": "stdout",
     "output_type": "stream",
     "text": [
      "3\n"
     ]
    }
   ],
   "source": [
    "#2D lists and nested loops -lists within a list\n",
    "number_grid = [\n",
    "    [1, 2, 3],\n",
    "    [4, 5, 6],\n",
    "    [7, 8, 9],\n",
    "    [0]\n",
    "]\n",
    "\n",
    "print(number_grid[0][2])  "
   ]
  },
  {
   "cell_type": "code",
   "execution_count": 20,
   "metadata": {},
   "outputs": [
    {
     "name": "stdout",
     "output_type": "stream",
     "text": [
      "9\n"
     ]
    }
   ],
   "source": [
    "#2D lists -lists within a list\n",
    "number_grid = [\n",
    "    [1, 2, 3],\n",
    "    [4, 5, 6],\n",
    "    [7, 8, 9],\n",
    "    [0]\n",
    "]\n",
    "\n",
    "print(number_grid[2][2])  "
   ]
  },
  {
   "cell_type": "code",
   "execution_count": 21,
   "metadata": {},
   "outputs": [
    {
     "name": "stdout",
     "output_type": "stream",
     "text": [
      "[1, 2, 3]\n",
      "[4, 5, 6]\n",
      "[7, 8, 9]\n",
      "[0]\n"
     ]
    }
   ],
   "source": [
    "# nested for loops -lists within a list\n",
    "number_grid = [\n",
    "    [1, 2, 3],\n",
    "    [4, 5, 6],\n",
    "    [7, 8, 9],\n",
    "    [0]\n",
    "]\n",
    "\n",
    "for row in number_grid:\n",
    "    print(row)"
   ]
  },
  {
   "cell_type": "code",
   "execution_count": 17,
   "metadata": {},
   "outputs": [
    {
     "name": "stdout",
     "output_type": "stream",
     "text": [
      "1\n",
      "2\n",
      "3\n",
      "4\n",
      "5\n",
      "6\n",
      "7\n",
      "8\n",
      "9\n",
      "0\n"
     ]
    }
   ],
   "source": [
    "# nested for loops cont'd\n",
    "number_grid = [\n",
    "    [1, 2, 3],\n",
    "    [4, 5, 6],\n",
    "    [7, 8, 9],\n",
    "    [0]\n",
    "]\n",
    "\n",
    "for tow in number_grid:\n",
    "    for bar in tow:                                                   #originally \"bar\" was \"col\" and \"tow\" was \"row\", I changed it to show that the variable name doesnt         \n",
    "        print(bar)"
   ]
  },
  {
   "cell_type": "code",
   "execution_count": 25,
   "metadata": {},
   "outputs": [
    {
     "name": "stdout",
     "output_type": "stream",
     "text": [
      "Enter a phrase: fever\n",
      "fgvgr\n"
     ]
    }
   ],
   "source": [
    "#building a basic translator\n",
    "\n",
    "def translate(phrase):\n",
    "    translation = \"\"\n",
    "    for letter in phrase:\n",
    "        if letter in \"AEIOUaeiou\":\n",
    "            translation += \"g\"\n",
    "        else:\n",
    "            translation += letter\n",
    "    return translation\n",
    "\n",
    "print(translate(input(\"Enter a phrase: \")))"
   ]
  },
  {
   "cell_type": "code",
   "execution_count": 27,
   "metadata": {},
   "outputs": [
    {
     "name": "stdout",
     "output_type": "stream",
     "text": [
      "Enter a phrase: to be or not to be\n",
      "tg bg gr ngt tg bg\n"
     ]
    }
   ],
   "source": [
    "def translate(phrase):\n",
    "    translation = \"\"\n",
    "    for letter in phrase:\n",
    "        if letter in \"AEIOUaeiou\":\n",
    "            translation += \"g\"\n",
    "        else:\n",
    "            translation += letter\n",
    "    return translation\n",
    "\n",
    "print(translate(input(\"Enter a phrase: \")))"
   ]
  },
  {
   "cell_type": "code",
   "execution_count": 26,
   "metadata": {},
   "outputs": [
    {
     "name": "stdout",
     "output_type": "stream",
     "text": [
      "Enter a phrase: mcll\n",
      "mcll\n"
     ]
    }
   ],
   "source": [
    "def translate(phrase):\n",
    "    translation = \"\"\n",
    "    for letter in phrase:\n",
    "        if letter in \"AEIOUaeiou\":                               #considering lower and upper case\n",
    "            translation += \"g\"\n",
    "        else:\n",
    "            translation += letter\n",
    "    return translation\n",
    "\n",
    "print(translate(input(\"Enter a phrase: \")))                #note no \"g\" in result because I only have consonants in try"
   ]
  },
  {
   "cell_type": "code",
   "execution_count": 28,
   "metadata": {},
   "outputs": [
    {
     "name": "stdout",
     "output_type": "stream",
     "text": [
      "Enter a phrase: Apple\n",
      "gpplg\n"
     ]
    }
   ],
   "source": [
    "#building a basic translator-ALSO\n",
    "\n",
    "def translate(phrase):\n",
    "    translation = \"\"\n",
    "    for letter in phrase:\n",
    "        if letter.lower() in \"aeiou\":                                       #letter.lower() converts whatever letter in the phrase to lower case\n",
    "            translation += \"g\"\n",
    "        else:\n",
    "            translation += letter\n",
    "    return translation\n",
    "\n",
    "print(translate(input(\"Enter a phrase: \")))"
   ]
  },
  {
   "cell_type": "code",
   "execution_count": 29,
   "metadata": {},
   "outputs": [
    {
     "name": "stdout",
     "output_type": "stream",
     "text": [
      "Enter a phrase: Apple Announcement\n",
      "Gpplg Gnnggncgmgnt\n"
     ]
    }
   ],
   "source": [
    "def translate(phrase):\n",
    "    translation = \"\"\n",
    "    for letter in phrase:\n",
    "        if letter.lower() in \"aeiou\":\n",
    "            if letter.isupper():                                          #Accounting for consistency in the case, uppr or lwr used\n",
    "                translation += \"G\"\n",
    "            else:\n",
    "                translation += \"g\"\n",
    "        else:\n",
    "            translation += letter\n",
    "    return translation\n",
    "\n",
    "print(translate(input(\"Enter a phrase: \")))                              "
   ]
  },
  {
   "cell_type": "code",
   "execution_count": 69,
   "metadata": {},
   "outputs": [
    {
     "name": "stdout",
     "output_type": "stream",
     "text": [
      "Enter guess: girAffe\n",
      "you win!\n",
      "Enter guess: giraffe\n",
      "you win!\n",
      "you win!\n"
     ]
    }
   ],
   "source": [
    "#Building a guessing game - improving to a/c for capital and small - here the code doesnt stop after right guess\n",
    "secret_word = \"giraffe\"\n",
    "guess = \"\"\n",
    "i = 0\n",
    "i_limit = 3             #could have named i, guess_limit and so on, but i chose to use i, here\n",
    "out_of_tries = False\n",
    "\n",
    "while guess != secret_word and not(out_of_tries):\n",
    "    if i < i_limit:\n",
    "        guess = input(\"Enter guess: \")\n",
    "        i += 1\n",
    "        if i == i_limit - 2 and guess.lower() != secret_word.lower():\n",
    "            print(\"wrong input! You have two more tries\") \n",
    "        elif guess.lower() == secret_word.lower():\n",
    "            print(\"you win!\")\n",
    "        elif i == i_limit - 1 and guess.lower() != secret_word.lower():\n",
    "            print(\"wrong input! You have one more try\")\n",
    "        elif guess.lower() == secret_word.lower():\n",
    "            print(\"you win!\")\n",
    "    else:\n",
    "        out_of_tries = True\n",
    "\n",
    "if out_of_tries:\n",
    "    print(\"Out of guesses, YOU LOSE!\")\n",
    "else:\n",
    "    print(\"you win!\")\n",
    "\n"
   ]
  },
  {
   "cell_type": "code",
   "execution_count": 101,
   "metadata": {},
   "outputs": [
    {
     "name": "stdout",
     "output_type": "stream",
     "text": [
      "Enter guess: her\n",
      "wrong input! You have two more tries\n",
      "Enter guess: GiraFFe\n",
      "you win!\n"
     ]
    }
   ],
   "source": [
    "#Building a guessing game - improving to a/c for case sensitivity (Excellent!!!)\n",
    "secret_word = \"giraffe\"\n",
    "guess = \"\"\n",
    "i = 0\n",
    "i_limit = 3             #could have named i, guess_limit and so on, but i chose to use i, here\n",
    "out_of_tries = False\n",
    "\n",
    "while guess != secret_word and not(out_of_tries):\n",
    "    if i < i_limit:\n",
    "        guess = input(\"Enter guess: \")\n",
    "        i += 1\n",
    "        if i == i_limit - 2 and guess.upper() != secret_word.upper():        #this can be \"upper\" or \"lower\" as demonstrated\n",
    "            print(\"wrong input! You have two more tries\") \n",
    "        elif i == i_limit - 1 and guess.upper() != secret_word.upper():\n",
    "            print(\"wrong input! You have one more try\")\n",
    "        elif guess.upper() == secret_word.upper():\n",
    "            print(\"you win!\")\n",
    "            break\n",
    "       \n",
    "    else:\n",
    "        out_of_tries = True \n",
    "\n",
    "if out_of_tries:\n",
    "    print(\"Out of guesses, YOU LOSE!\")\n",
    "\n"
   ]
  },
  {
   "cell_type": "code",
   "execution_count": 46,
   "metadata": {},
   "outputs": [
    {
     "name": "stdout",
     "output_type": "stream",
     "text": [
      "Enter your username: pYThon-User\n",
      "Enter your password: myP@ssWORD\n",
      "Successful login\n"
     ]
    }
   ],
   "source": [
    "inputUsername = \"Python-User\"\n",
    "user_name =\"\"\n",
    "\n",
    "inputPassword = \"myP@SSword\"\n",
    "Pass_word = \"\"\n",
    "\n",
    "while user_name != inputUsername and Pass_word != inputPassword:\n",
    "    user_name = input(\"Enter your username: \")\n",
    "    Pass_word = input(\"Enter your password: \")\n",
    "\n",
    "    if (user_name.lower() == inputUsername.lower() and Pass_word.lower() == inputPassword.lower()):\n",
    "        print(\"Successful login\")\n",
    "    else:\n",
    "        print(\"Incorrect username or password\")\n",
    "    break"
   ]
  },
  {
   "cell_type": "code",
   "execution_count": 142,
   "metadata": {},
   "outputs": [
    {
     "name": "stdout",
     "output_type": "stream",
     "text": [
      "Enter a number: 15\n",
      "15  is not a prime number\n",
      "3 x 5 equals 15\n",
      "15  is not a prime number\n",
      "5 x 3 equals 15\n",
      "Enter a number: 11\n",
      "Enter a number: 9\n",
      "9  is not a prime number\n",
      "3 x 3 equals 9\n"
     ]
    },
    {
     "ename": "KeyboardInterrupt",
     "evalue": "Interrupted by user",
     "output_type": "error",
     "traceback": [
      "\u001b[1;31m---------------------------------------------------------------------------\u001b[0m",
      "\u001b[1;31mKeyboardInterrupt\u001b[0m                         Traceback (most recent call last)",
      "\u001b[1;32m~\\AppData\\Local\\Temp/ipykernel_25268/2231665272.py\u001b[0m in \u001b[0;36m<module>\u001b[1;34m\u001b[0m\n\u001b[0;32m      4\u001b[0m \u001b[1;33m\u001b[0m\u001b[0m\n\u001b[0;32m      5\u001b[0m \u001b[1;32mwhile\u001b[0m \u001b[0mi\u001b[0m\u001b[1;33m<\u001b[0m\u001b[0mi_lim\u001b[0m \u001b[1;32mand\u001b[0m \u001b[1;32mnot\u001b[0m \u001b[0mout\u001b[0m\u001b[1;33m:\u001b[0m\u001b[1;33m\u001b[0m\u001b[1;33m\u001b[0m\u001b[0m\n\u001b[1;32m----> 6\u001b[1;33m     \u001b[0my\u001b[0m \u001b[1;33m=\u001b[0m \u001b[0mint\u001b[0m\u001b[1;33m(\u001b[0m\u001b[0minput\u001b[0m\u001b[1;33m(\u001b[0m\u001b[1;34m\"Enter a number: \"\u001b[0m\u001b[1;33m)\u001b[0m\u001b[1;33m)\u001b[0m\u001b[1;33m\u001b[0m\u001b[1;33m\u001b[0m\u001b[0m\n\u001b[0m\u001b[0;32m      7\u001b[0m     \u001b[1;32mif\u001b[0m \u001b[0my\u001b[0m \u001b[1;33m==\u001b[0m \u001b[1;36m1\u001b[0m\u001b[1;33m:\u001b[0m\u001b[1;33m\u001b[0m\u001b[1;33m\u001b[0m\u001b[0m\n\u001b[0;32m      8\u001b[0m         \u001b[0mprint\u001b[0m\u001b[1;33m(\u001b[0m\u001b[1;36m1\u001b[0m\u001b[1;33m,\u001b[0m\u001b[1;34m\" is not a prime number\"\u001b[0m\u001b[1;33m)\u001b[0m\u001b[1;33m\u001b[0m\u001b[1;33m\u001b[0m\u001b[0m\n",
      "\u001b[1;32m~\\anaconda3\\lib\\site-packages\\ipykernel\\kernelbase.py\u001b[0m in \u001b[0;36mraw_input\u001b[1;34m(self, prompt)\u001b[0m\n\u001b[0;32m   1004\u001b[0m                 \u001b[1;34m\"raw_input was called, but this frontend does not support input requests.\"\u001b[0m\u001b[1;33m\u001b[0m\u001b[1;33m\u001b[0m\u001b[0m\n\u001b[0;32m   1005\u001b[0m             )\n\u001b[1;32m-> 1006\u001b[1;33m         return self._input_request(\n\u001b[0m\u001b[0;32m   1007\u001b[0m             \u001b[0mstr\u001b[0m\u001b[1;33m(\u001b[0m\u001b[0mprompt\u001b[0m\u001b[1;33m)\u001b[0m\u001b[1;33m,\u001b[0m\u001b[1;33m\u001b[0m\u001b[1;33m\u001b[0m\u001b[0m\n\u001b[0;32m   1008\u001b[0m             \u001b[0mself\u001b[0m\u001b[1;33m.\u001b[0m\u001b[0m_parent_ident\u001b[0m\u001b[1;33m[\u001b[0m\u001b[1;34m\"shell\"\u001b[0m\u001b[1;33m]\u001b[0m\u001b[1;33m,\u001b[0m\u001b[1;33m\u001b[0m\u001b[1;33m\u001b[0m\u001b[0m\n",
      "\u001b[1;32m~\\anaconda3\\lib\\site-packages\\ipykernel\\kernelbase.py\u001b[0m in \u001b[0;36m_input_request\u001b[1;34m(self, prompt, ident, parent, password)\u001b[0m\n\u001b[0;32m   1049\u001b[0m             \u001b[1;32mexcept\u001b[0m \u001b[0mKeyboardInterrupt\u001b[0m\u001b[1;33m:\u001b[0m\u001b[1;33m\u001b[0m\u001b[1;33m\u001b[0m\u001b[0m\n\u001b[0;32m   1050\u001b[0m                 \u001b[1;31m# re-raise KeyboardInterrupt, to truncate traceback\u001b[0m\u001b[1;33m\u001b[0m\u001b[1;33m\u001b[0m\u001b[1;33m\u001b[0m\u001b[0m\n\u001b[1;32m-> 1051\u001b[1;33m                 \u001b[1;32mraise\u001b[0m \u001b[0mKeyboardInterrupt\u001b[0m\u001b[1;33m(\u001b[0m\u001b[1;34m\"Interrupted by user\"\u001b[0m\u001b[1;33m)\u001b[0m \u001b[1;32mfrom\u001b[0m \u001b[1;32mNone\u001b[0m\u001b[1;33m\u001b[0m\u001b[1;33m\u001b[0m\u001b[0m\n\u001b[0m\u001b[0;32m   1052\u001b[0m             \u001b[1;32mexcept\u001b[0m \u001b[0mException\u001b[0m\u001b[1;33m:\u001b[0m\u001b[1;33m\u001b[0m\u001b[1;33m\u001b[0m\u001b[0m\n\u001b[0;32m   1053\u001b[0m                 \u001b[0mself\u001b[0m\u001b[1;33m.\u001b[0m\u001b[0mlog\u001b[0m\u001b[1;33m.\u001b[0m\u001b[0mwarning\u001b[0m\u001b[1;33m(\u001b[0m\u001b[1;34m\"Invalid Message:\"\u001b[0m\u001b[1;33m,\u001b[0m \u001b[0mexc_info\u001b[0m\u001b[1;33m=\u001b[0m\u001b[1;32mTrue\u001b[0m\u001b[1;33m)\u001b[0m\u001b[1;33m\u001b[0m\u001b[1;33m\u001b[0m\u001b[0m\n",
      "\u001b[1;31mKeyboardInterrupt\u001b[0m: Interrupted by user"
     ]
    }
   ],
   "source": [
    "i = 0\n",
    "i_lim = 20\n",
    "out = False\n",
    "\n",
    "while i<i_lim and not out:\n",
    "    y = int(input(\"Enter a number: \"))\n",
    "    if y == 1:\n",
    "        print(1,\" is not a prime number\") \n",
    "    elif y == 2:\n",
    "        print(2,\" is a prime number\")\n",
    "\n",
    "    elif y>1:\n",
    "        for z in range(2,y):\n",
    "            if (y%z == 0): \n",
    "                print(y,\" is not a prime number\")\n",
    "                print(z,\"x\",y//z,\"equals\",y)\n",
    "            break\n",
    "\n",
    "        for z in range(3,y):\n",
    "            if (y%z == 0): \n",
    "                print(y,\" is not a prime number\")\n",
    "                print(z,\"x\",y//z,\"equals\",y)\n",
    "            break\n",
    "        for z in range(5,y):\n",
    "            if (y%z == 0): \n",
    "                print(y,\" is not a prime number\")\n",
    "                print(z,\"x\",y//z,\"equals\",y)\n",
    "            break\n",
    "        for z in range(7,y):\n",
    "            if (y%z == 0): \n",
    "                print(y,\" is not a prime number\")\n",
    "                print(z,\"x\",y//z,\"equals\",y)\n",
    "            break\n",
    "        for z in range(11,y):\n",
    "            if (y%z == 0): \n",
    "                print(y,\" is not a prime number\")\n",
    "                print(z,\"x\",y//z,\"equals\",y)\n",
    "            break\n",
    "    else:\n",
    "        print(y,\"is a prime number\")\n",
    "        break"
   ]
  },
  {
   "cell_type": "code",
   "execution_count": 13,
   "metadata": {},
   "outputs": [
    {
     "name": "stdout",
     "output_type": "stream",
     "text": [
      "Enter a number: 0\n",
      "0 is a prime number\n"
     ]
    }
   ],
   "source": [
    "i = 0\n",
    "i_lim = 20\n",
    "out = False\n",
    "num = [2,3,5,7,11]\n",
    "\n",
    "while i<i_lim and not out:\n",
    "    y = int(input(\"Enter a number: \"))\n",
    "    if y == 1:\n",
    "        print(1,\" is not a prime number\") \n",
    "    elif y == 2:\n",
    "        print(2,\" is a prime number\")\n",
    "\n",
    "    elif y>1:\n",
    "        for z in num[0:4]:\n",
    "            for z in range(num,y):\n",
    "                if (y%z == 0): \n",
    "                    print(y,\" is not a prime number\")\n",
    "                    print(z,\"x\",y//z,\"equals\",y)\n",
    "                break\n",
    "    else:\n",
    "        print(y,\"is a prime number\")\n",
    "        break"
   ]
  },
  {
   "cell_type": "code",
   "execution_count": 163,
   "metadata": {},
   "outputs": [
    {
     "name": "stdout",
     "output_type": "stream",
     "text": [
      "2\n",
      "3\n",
      "5\n",
      "7\n",
      "11\n",
      "13\n",
      "17\n",
      "19\n",
      "23\n",
      "29\n",
      "31\n",
      "37\n",
      "41\n",
      "43\n",
      "47\n"
     ]
    }
   ],
   "source": [
    "import math\n",
    "\n",
    "def isPrime(n):\n",
    "    for i in range(2, int(math.sqrt(n)+1)):\n",
    "        if n % i == 0: \n",
    "            return False;\n",
    "    return n>1;\n",
    "\n",
    "\n",
    "for n in range(2, 50):\n",
    "    if isPrime(n):\n",
    "        print (n)\n",
    "\n"
   ]
  },
  {
   "cell_type": "code",
   "execution_count": 123,
   "metadata": {},
   "outputs": [
    {
     "ename": "KeyboardInterrupt",
     "evalue": "Interrupted by user",
     "output_type": "error",
     "traceback": [
      "\u001b[1;31m---------------------------------------------------------------------------\u001b[0m",
      "\u001b[1;31mKeyboardInterrupt\u001b[0m                         Traceback (most recent call last)",
      "\u001b[1;32m~\\AppData\\Local\\Temp/ipykernel_25268/3882168387.py\u001b[0m in \u001b[0;36m<module>\u001b[1;34m\u001b[0m\n\u001b[0;32m      8\u001b[0m \u001b[1;33m\u001b[0m\u001b[0m\n\u001b[0;32m      9\u001b[0m \u001b[1;32mwhile\u001b[0m \u001b[0my\u001b[0m \u001b[1;33m<\u001b[0m \u001b[0my_limit\u001b[0m \u001b[1;32mand\u001b[0m \u001b[1;32mnot\u001b[0m\u001b[1;33m(\u001b[0m\u001b[0mout_of_tries\u001b[0m\u001b[1;33m)\u001b[0m\u001b[1;33m:\u001b[0m\u001b[1;33m\u001b[0m\u001b[1;33m\u001b[0m\u001b[0m\n\u001b[1;32m---> 10\u001b[1;33m     \u001b[0mnum\u001b[0m \u001b[1;33m=\u001b[0m \u001b[0mint\u001b[0m\u001b[1;33m(\u001b[0m\u001b[0minput\u001b[0m\u001b[1;33m(\u001b[0m\u001b[1;34m\"Enter a number: \"\u001b[0m\u001b[1;33m)\u001b[0m\u001b[1;33m)\u001b[0m\u001b[1;33m\u001b[0m\u001b[1;33m\u001b[0m\u001b[0m\n\u001b[0m\u001b[0;32m     11\u001b[0m     \u001b[1;32mif\u001b[0m \u001b[0mnum\u001b[0m \u001b[1;33m>\u001b[0m \u001b[1;36m1\u001b[0m\u001b[1;33m:\u001b[0m\u001b[1;33m\u001b[0m\u001b[1;33m\u001b[0m\u001b[0m\n\u001b[0;32m     12\u001b[0m         \u001b[1;32mfor\u001b[0m \u001b[0mi\u001b[0m \u001b[1;32min\u001b[0m \u001b[0mrange\u001b[0m\u001b[1;33m(\u001b[0m\u001b[1;36m2\u001b[0m\u001b[1;33m,\u001b[0m \u001b[0mnum\u001b[0m\u001b[1;33m)\u001b[0m\u001b[1;33m:\u001b[0m\u001b[1;33m\u001b[0m\u001b[1;33m\u001b[0m\u001b[0m\n",
      "\u001b[1;32m~\\anaconda3\\lib\\site-packages\\ipykernel\\kernelbase.py\u001b[0m in \u001b[0;36mraw_input\u001b[1;34m(self, prompt)\u001b[0m\n\u001b[0;32m   1004\u001b[0m                 \u001b[1;34m\"raw_input was called, but this frontend does not support input requests.\"\u001b[0m\u001b[1;33m\u001b[0m\u001b[1;33m\u001b[0m\u001b[0m\n\u001b[0;32m   1005\u001b[0m             )\n\u001b[1;32m-> 1006\u001b[1;33m         return self._input_request(\n\u001b[0m\u001b[0;32m   1007\u001b[0m             \u001b[0mstr\u001b[0m\u001b[1;33m(\u001b[0m\u001b[0mprompt\u001b[0m\u001b[1;33m)\u001b[0m\u001b[1;33m,\u001b[0m\u001b[1;33m\u001b[0m\u001b[1;33m\u001b[0m\u001b[0m\n\u001b[0;32m   1008\u001b[0m             \u001b[0mself\u001b[0m\u001b[1;33m.\u001b[0m\u001b[0m_parent_ident\u001b[0m\u001b[1;33m[\u001b[0m\u001b[1;34m\"shell\"\u001b[0m\u001b[1;33m]\u001b[0m\u001b[1;33m,\u001b[0m\u001b[1;33m\u001b[0m\u001b[1;33m\u001b[0m\u001b[0m\n",
      "\u001b[1;32m~\\anaconda3\\lib\\site-packages\\ipykernel\\kernelbase.py\u001b[0m in \u001b[0;36m_input_request\u001b[1;34m(self, prompt, ident, parent, password)\u001b[0m\n\u001b[0;32m   1049\u001b[0m             \u001b[1;32mexcept\u001b[0m \u001b[0mKeyboardInterrupt\u001b[0m\u001b[1;33m:\u001b[0m\u001b[1;33m\u001b[0m\u001b[1;33m\u001b[0m\u001b[0m\n\u001b[0;32m   1050\u001b[0m                 \u001b[1;31m# re-raise KeyboardInterrupt, to truncate traceback\u001b[0m\u001b[1;33m\u001b[0m\u001b[1;33m\u001b[0m\u001b[1;33m\u001b[0m\u001b[0m\n\u001b[1;32m-> 1051\u001b[1;33m                 \u001b[1;32mraise\u001b[0m \u001b[0mKeyboardInterrupt\u001b[0m\u001b[1;33m(\u001b[0m\u001b[1;34m\"Interrupted by user\"\u001b[0m\u001b[1;33m)\u001b[0m \u001b[1;32mfrom\u001b[0m \u001b[1;32mNone\u001b[0m\u001b[1;33m\u001b[0m\u001b[1;33m\u001b[0m\u001b[0m\n\u001b[0m\u001b[0;32m   1052\u001b[0m             \u001b[1;32mexcept\u001b[0m \u001b[0mException\u001b[0m\u001b[1;33m:\u001b[0m\u001b[1;33m\u001b[0m\u001b[1;33m\u001b[0m\u001b[0m\n\u001b[0;32m   1053\u001b[0m                 \u001b[0mself\u001b[0m\u001b[1;33m.\u001b[0m\u001b[0mlog\u001b[0m\u001b[1;33m.\u001b[0m\u001b[0mwarning\u001b[0m\u001b[1;33m(\u001b[0m\u001b[1;34m\"Invalid Message:\"\u001b[0m\u001b[1;33m,\u001b[0m \u001b[0mexc_info\u001b[0m\u001b[1;33m=\u001b[0m\u001b[1;32mTrue\u001b[0m\u001b[1;33m)\u001b[0m\u001b[1;33m\u001b[0m\u001b[1;33m\u001b[0m\u001b[0m\n",
      "\u001b[1;31mKeyboardInterrupt\u001b[0m: Interrupted by user"
     ]
    }
   ],
   "source": [
    "#improving\n",
    "y = 0\n",
    "y_limit = 4\n",
    "out_of_tries = False\n",
    "\n",
    "flag = False\n",
    "\n",
    "\n",
    "while y < y_limit and not(out_of_tries):\n",
    "    num = int(input(\"Enter a number: \"))\n",
    "    if num > 1:\n",
    "        for i in range(2, num):\n",
    "            if (num % i) == 0:\n",
    "                print(num,\"is not a prime number\")\n",
    "                print(i,\"x\",num // i,\"is\",num)\n",
    "                break\n",
    "            else:\n",
    "                print(num,\"is a prime number\")\n",
    "                break\n",
    "    else:\n",
    "        out_of_tries = True\n",
    "\n",
    "if y == y_limit - 3:\n",
    "    print(\"You have one more try\")\n",
    "    break\n",
    "if out_of_tries:\n",
    "    print(\"You are done with free trial\")\n",
    "\n",
    "\n"
   ]
  },
  {
   "cell_type": "code",
   "execution_count": 24,
   "metadata": {},
   "outputs": [
    {
     "name": "stdout",
     "output_type": "stream",
     "text": [
      "Enter a number: 4.5\n"
     ]
    },
    {
     "ename": "ValueError",
     "evalue": "invalid literal for int() with base 10: '4.5'",
     "output_type": "error",
     "traceback": [
      "\u001b[1;31m---------------------------------------------------------------------------\u001b[0m",
      "\u001b[1;31mValueError\u001b[0m                                Traceback (most recent call last)",
      "\u001b[1;32m~\\AppData\\Local\\Temp/ipykernel_12752/1956975831.py\u001b[0m in \u001b[0;36m<module>\u001b[1;34m\u001b[0m\n\u001b[0;32m      1\u001b[0m \u001b[1;31m#Catching errors in python - try except\u001b[0m\u001b[1;33m\u001b[0m\u001b[1;33m\u001b[0m\u001b[1;33m\u001b[0m\u001b[0m\n\u001b[0;32m      2\u001b[0m \u001b[1;33m\u001b[0m\u001b[0m\n\u001b[1;32m----> 3\u001b[1;33m \u001b[0mnum\u001b[0m \u001b[1;33m=\u001b[0m \u001b[0mint\u001b[0m\u001b[1;33m(\u001b[0m\u001b[0minput\u001b[0m\u001b[1;33m(\u001b[0m\u001b[1;34m\"Enter a number: \"\u001b[0m\u001b[1;33m)\u001b[0m\u001b[1;33m)\u001b[0m\u001b[1;33m\u001b[0m\u001b[1;33m\u001b[0m\u001b[0m\n\u001b[0m\u001b[0;32m      4\u001b[0m \u001b[0mprint\u001b[0m\u001b[1;33m(\u001b[0m\u001b[0mnum\u001b[0m\u001b[1;33m)\u001b[0m\u001b[1;33m\u001b[0m\u001b[1;33m\u001b[0m\u001b[0m\n",
      "\u001b[1;31mValueError\u001b[0m: invalid literal for int() with base 10: '4.5'"
     ]
    }
   ],
   "source": [
    "#Catching errors in python - try except\n",
    "\n",
    "num = int(input(\"Enter a number: \"))            #see i entered 4.5 - a float- instead of an integer and the code broke.to find issues in complex code, use 'try except blocks' shown in next cell\n",
    "print(num)"
   ]
  },
  {
   "cell_type": "code",
   "execution_count": 26,
   "metadata": {},
   "outputs": [
    {
     "name": "stdout",
     "output_type": "stream",
     "text": [
      "Enter a number: 4.5\n",
      "invalid input\n"
     ]
    }
   ],
   "source": [
    "#Catching errors in python - try / except\n",
    "\n",
    "try:\n",
    "    num = int(input(\"Enter a number: \"))\n",
    "    print(num)\n",
    "except:\n",
    "    print(\"invalid input\")       #see output"
   ]
  },
  {
   "cell_type": "code",
   "execution_count": 29,
   "metadata": {},
   "outputs": [
    {
     "ename": "ZeroDivisionError",
     "evalue": "division by zero",
     "output_type": "error",
     "traceback": [
      "\u001b[1;31m---------------------------------------------------------------------------\u001b[0m",
      "\u001b[1;31mZeroDivisionError\u001b[0m                         Traceback (most recent call last)",
      "\u001b[1;32m~\\AppData\\Local\\Temp/ipykernel_12752/4243548530.py\u001b[0m in \u001b[0;36m<module>\u001b[1;34m\u001b[0m\n\u001b[0;32m      1\u001b[0m \u001b[1;31m#Catching errors in python - try except\u001b[0m\u001b[1;33m\u001b[0m\u001b[1;33m\u001b[0m\u001b[1;33m\u001b[0m\u001b[0m\n\u001b[0;32m      2\u001b[0m \u001b[1;33m\u001b[0m\u001b[0m\n\u001b[1;32m----> 3\u001b[1;33m \u001b[0mvalue\u001b[0m \u001b[1;33m=\u001b[0m \u001b[1;36m10\u001b[0m\u001b[1;33m/\u001b[0m\u001b[1;36m0\u001b[0m\u001b[1;33m\u001b[0m\u001b[1;33m\u001b[0m\u001b[0m\n\u001b[0m\u001b[0;32m      4\u001b[0m \u001b[1;33m\u001b[0m\u001b[0m\n\u001b[0;32m      5\u001b[0m \u001b[1;32mtry\u001b[0m\u001b[1;33m:\u001b[0m\u001b[1;33m\u001b[0m\u001b[1;33m\u001b[0m\u001b[0m\n",
      "\u001b[1;31mZeroDivisionError\u001b[0m: division by zero"
     ]
    }
   ],
   "source": [
    "#Catching errors in python - try except\n",
    "\n",
    "value = 10/0\n",
    "\n",
    "try:\n",
    "    num = int(input(\"Enter a number: \"))\n",
    "    print(num)\n",
    "except:\n",
    "    print(\"invalid input\")      "
   ]
  },
  {
   "cell_type": "code",
   "execution_count": 30,
   "metadata": {},
   "outputs": [
    {
     "name": "stdout",
     "output_type": "stream",
     "text": [
      "invalid input\n"
     ]
    }
   ],
   "source": [
    "#Catching errors in python - try except\n",
    "\n",
    "\n",
    "\n",
    "try:\n",
    "    value = 10/0                          #note that although this is just a zero division error, it still calls in invalid input, we adapt in the next cell\n",
    "    num = int(input(\"Enter a number: \"))\n",
    "    print(num)\n",
    "except:\n",
    "    print(\"invalid input\")   "
   ]
  },
  {
   "cell_type": "code",
   "execution_count": 41,
   "metadata": {},
   "outputs": [
    {
     "name": "stdout",
     "output_type": "stream",
     "text": [
      "Enter a number: 4.5\n",
      "invalid input\n"
     ]
    }
   ],
   "source": [
    "try:\n",
    "                             \n",
    "    num = int(input(\"Enter a number: \"))                       #based on sequence we can identify the break point in the code\n",
    "    value = 10/0\n",
    "    print(value)          \n",
    "    print(num)\n",
    "except ZeroDivisionError:\n",
    "    print(\"Divided by zero\") \n",
    "except ValueError:\n",
    "    print(\"invalid input\") "
   ]
  },
  {
   "cell_type": "code",
   "execution_count": 35,
   "metadata": {},
   "outputs": [
    {
     "name": "stdout",
     "output_type": "stream",
     "text": [
      "Divided by zero\n"
     ]
    }
   ],
   "source": [
    "try:\n",
    "    value = 10/0                         \n",
    "    num = int(input(\"Enter a number: \"))                       #based on sequence we can identify the break point in the code\n",
    "    print(value)          \n",
    "    print(num)\n",
    "except ZeroDivisionError:\n",
    "    print(\"Divided by zero\") \n",
    "except ValueError:\n",
    "    print(\"invalid input\") "
   ]
  },
  {
   "cell_type": "code",
   "execution_count": 2,
   "metadata": {},
   "outputs": [
    {
     "name": "stdout",
     "output_type": "stream",
     "text": [
      "division by zero\n"
     ]
    }
   ],
   "source": [
    "#Also\n",
    "\n",
    "try:\n",
    "    value = 10/0                         \n",
    "    num = int(input(\"Enter a number: \"))                       #based on sequence we can identify the break point in the code\n",
    "    print(value)          \n",
    "    print(num)\n",
    "except ZeroDivisionError as err:\n",
    "    print(err) \n",
    "except ValueError as v_err:\n",
    "    print(v_err) "
   ]
  },
  {
   "cell_type": "code",
   "execution_count": 93,
   "metadata": {},
   "outputs": [
    {
     "name": "stdout",
     "output_type": "stream",
     "text": [
      "True\n",
      "Jim - Salesman\n",
      "Pam - Receptionist\n",
      "Michael - Manager\n",
      "Oscar - Accountant\n"
     ]
    }
   ],
   "source": [
    "#reading files\n",
    "\n",
    "employee_file = open(\"reading_files_practice.txt\", \"r\")       #we have r = read, w = write, a = append, and r+ = read and write\n",
    "\n",
    "print(employee_file.readable())         #confirms if file can be read - true or false ----Also, if i had \"w\" for example in place of \"r\" it would show false in the output\n",
    "print(employee_file.read())               #reads the actual file\n",
    "\n",
    "employee_file.close()\n"
   ]
  },
  {
   "cell_type": "code",
   "execution_count": 6,
   "metadata": {},
   "outputs": [
    {
     "name": "stdout",
     "output_type": "stream",
     "text": [
      "Jim - Salesman\n",
      "\n",
      "Pam - Receptionist\n",
      "\n"
     ]
    }
   ],
   "source": [
    "#reading files - ALSO\n",
    "\n",
    "employee_file = open(\"reading_files_practice.txt\", \"r\")       #readline calls a single item on the list by sequence. for instance, the comman appears twice and calls only two lines in this output\n",
    "\n",
    "print(employee_file.readline())               #reads the actual fie\n",
    "print(employee_file.readline())\n",
    "employee_file.close()"
   ]
  },
  {
   "cell_type": "code",
   "execution_count": 95,
   "metadata": {},
   "outputs": [
    {
     "name": "stdout",
     "output_type": "stream",
     "text": [
      "['Jim - Salesman\\n', 'Pam - Receptionist\\n', 'Michael - Manager\\n', 'Oscar - Accountant']\n"
     ]
    }
   ],
   "source": [
    "#reading files - ALSO\n",
    "\n",
    "employee_file = open(\"reading_files_practice.txt\", \"r\")       \n",
    "\n",
    "print(employee_file.readlines())               #\"readlines\" gives each item in the file in an array \n",
    "\n",
    "employee_file.close()"
   ]
  },
  {
   "cell_type": "code",
   "execution_count": 96,
   "metadata": {},
   "outputs": [
    {
     "name": "stdout",
     "output_type": "stream",
     "text": [
      "Oscar - Accountant\n"
     ]
    }
   ],
   "source": [
    "#reading files - ALSO\n",
    "\n",
    "employee_file = open(\"reading_files_practice.txt\", \"r\")       \n",
    "\n",
    "print(employee_file.readlines()[3])               #\"readlines\" gives each item in the file in an array. We can also call specific items based on their number\n",
    "\n",
    "employee_file.close()"
   ]
  },
  {
   "cell_type": "code",
   "execution_count": 97,
   "metadata": {},
   "outputs": [
    {
     "name": "stdout",
     "output_type": "stream",
     "text": [
      "Jim - Salesman\n",
      "\n",
      "Pam - Receptionist\n",
      "\n",
      "Michael - Manager\n",
      "\n",
      "Oscar - Accountant\n"
     ]
    }
   ],
   "source": [
    "#reading files - ALSO - with for loop\n",
    "\n",
    "employee_file = open(\"reading_files_practice.txt\", \"r\")  \n",
    "for employee in employee_file.readlines():\n",
    "    print(employee)\n",
    "\n",
    "employee_file.close()"
   ]
  },
  {
   "cell_type": "code",
   "execution_count": 100,
   "metadata": {},
   "outputs": [],
   "source": [
    "#writing to files - append\n",
    "\n",
    "employee_file = open(\"reading_files_practice.txt\", \"a\")       #we have r = read, w = write, a = append, and r+ = read and write\n",
    "employee_file.write(\"\\nKelly - Customer Services\")\n",
    "employee_file.write(\"\\nToby - Human Resources\")\n",
    "      \n",
    "employee_file.close()"
   ]
  },
  {
   "cell_type": "code",
   "execution_count": 102,
   "metadata": {},
   "outputs": [],
   "source": [
    "#writing to files - writing\n",
    "\n",
    "employee_file = open(\"reading_files_practice-writing.txt\", \"w\")       #writing overwrites existing file\n",
    "employee_file.write(\"Kelly - Customer Services\")\n",
    "employee_file.write(\"\\nToby - Human Resources\")\n",
    "      \n",
    "employee_file.close()"
   ]
  },
  {
   "cell_type": "code",
   "execution_count": 7,
   "metadata": {},
   "outputs": [],
   "source": [
    "#writing to files - writing\n",
    "\n",
    "employee_file = open(\"reading_files_practice-writing-A.txt\", \"w\")       #we can also create new files altogether by selecting a fresh name \"reading_files_practice-writing-A\"\n",
    "employee_file.write(\"Kelly - Customer Services\")\n",
    "employee_file.write(\"\\nToby - Human Resources\")\n",
    "employee_file.write(\"\\nMichael - Manager\")\n",
    "      \n",
    "employee_file.close()"
   ]
  },
  {
   "cell_type": "code",
   "execution_count": 8,
   "metadata": {},
   "outputs": [],
   "source": [
    "#writing to files - writing webpage (HTML)\n",
    "\n",
    "employee_file = open(\"index.html\", \"w\")       \n",
    "employee_file.write(\"<p>This is HTML</p>\")\n",
    "\n",
    "      \n",
    "employee_file.close()"
   ]
  },
  {
   "cell_type": "code",
   "execution_count": 112,
   "metadata": {},
   "outputs": [
    {
     "name": "stdout",
     "output_type": "stream",
     "text": [
      "6\n"
     ]
    }
   ],
   "source": [
    "#Modules and pip\n",
    "\n",
    "#say i want to simulate a DIE ROLL👌🤷‍♂️😎, I can either do this (in the following lines) with written code, or import pre-existing code from modules (Shown in next cell)\n",
    "\n",
    "import random\n",
    "\n",
    "def roll_dice(num):\n",
    "    return random.randint(1, num)\n",
    "\n",
    "result = roll_dice(6)\n",
    "print(result)\n"
   ]
  },
  {
   "cell_type": "code",
   "execution_count": 119,
   "metadata": {},
   "outputs": [
    {
     "name": "stdout",
     "output_type": "stream",
     "text": [
      "9\n"
     ]
    }
   ],
   "source": [
    "#Modules and pip\n",
    "\n",
    "import useful_tools\n",
    "\n",
    "print(useful_tools.roll_dice(10))"
   ]
  },
  {
   "cell_type": "code",
   "execution_count": 124,
   "metadata": {},
   "outputs": [
    {
     "name": "stdout",
     "output_type": "stream",
     "text": [
      "5280\n"
     ]
    }
   ],
   "source": [
    "#Modules and pip\n",
    "\n",
    "import useful_tools\n",
    "\n",
    "print(useful_tools.feet_in_mile)"
   ]
  },
  {
   "cell_type": "code",
   "execution_count": 6,
   "metadata": {},
   "outputs": [
    {
     "name": "stdout",
     "output_type": "stream",
     "text": [
      "0.5000 \n",
      "0.3333  \n",
      "0.1667  \n",
      "0.3333 \n",
      "0.5000  \n",
      "0.1667  \n"
     ]
    }
   ],
   "source": [
    "# Python3 program to find the ratio of positive,\n",
    "# negative, and zero elements in the array.\n",
    "\n",
    "# Function to find the ratio of\n",
    "# positive, negative, and zero elements\n",
    "def positiveNegativeZero(arr):\n",
    "\n",
    "\t# Store the array length into the variable len.\n",
    "\tlength = len(arr);\n",
    "\n",
    "\t# Initialize the postiveCount, negativeCount, and\n",
    "\t# zeroCountby 0 which will count the total number\n",
    "\t# of positive, negative and zero elements\n",
    "\tpositiveCount = 0;\n",
    "\tnegativeCount = 0;\n",
    "\tzeroCount = 0;\n",
    "\n",
    "\t# Traverse the array and count the total number of\n",
    "\t# positive, negative, and zero elements.\n",
    "\tfor i in range(length):\n",
    "\t\tif (arr[i] > 0):\n",
    "\t\t\tpositiveCount += 1;\n",
    "\t\telif(arr[i] < 0):\n",
    "\t\t\tnegativeCount += 1;\n",
    "\t\telif(arr[i] == 0):\n",
    "\t\t\tzeroCount += 1;\n",
    "       \n",
    "\t\t\n",
    "\t# Print the ratio of positive,\n",
    "\t# negative, and zero elements\n",
    "\t# in the array up to four decimal places.\n",
    "\tprint(\"{0:.4f}\".format((positiveCount / length)), end=\" \");\n",
    "\tprint(\"\\n%1.4f \"%(negativeCount / length), end=\" \");\n",
    "\tprint(\"\\n%1.4f \"%(zeroCount / length), end=\" \");\n",
    "\tprint()\n",
    "# Driver Code.\n",
    "if __name__ == '__main__':\n",
    "\n",
    "\t# Test Case 1:\n",
    "\ta1 = [ 2, -1, 5, 6, 0, -3 ];\n",
    "\tpositiveNegativeZero(a1);\n",
    "\n",
    "\t# Test Case 2:\n",
    "\ta2 = [ 4, 0, -2, -9, -7, 1 ];\n",
    "\tpositiveNegativeZero(a2);\n",
    "\t\n",
    "# This code is contributed by Rajput-Ji\n"
   ]
  },
  {
   "cell_type": "code",
   "execution_count": 27,
   "metadata": {},
   "outputs": [
    {
     "ename": "TypeError",
     "evalue": "student() takes no arguments",
     "output_type": "error",
     "traceback": [
      "\u001b[1;31m---------------------------------------------------------------------------\u001b[0m",
      "\u001b[1;31mTypeError\u001b[0m                                 Traceback (most recent call last)",
      "\u001b[1;32m~\\AppData\\Local\\Temp/ipykernel_13644/369966090.py\u001b[0m in \u001b[0;36m<module>\u001b[1;34m\u001b[0m\n\u001b[0;32m     11\u001b[0m         \u001b[0mself\u001b[0m\u001b[1;33m.\u001b[0m\u001b[0mis_on_probation\u001b[0m \u001b[1;33m=\u001b[0m \u001b[0mis_on_probationon\u001b[0m\u001b[1;33m\u001b[0m\u001b[1;33m\u001b[0m\u001b[0m\n\u001b[0;32m     12\u001b[0m \u001b[1;33m\u001b[0m\u001b[0m\n\u001b[1;32m---> 13\u001b[1;33m \u001b[0mstudent1\u001b[0m \u001b[1;33m=\u001b[0m \u001b[0mstudent\u001b[0m\u001b[1;33m(\u001b[0m\u001b[0mname\u001b[0m\u001b[1;33m=\u001b[0m\u001b[1;34m\"John\"\u001b[0m\u001b[1;33m,\u001b[0m \u001b[0mmajor\u001b[0m\u001b[1;33m=\u001b[0m\u001b[1;34m\"Finance\"\u001b[0m\u001b[1;33m,\u001b[0m \u001b[0mgpa\u001b[0m\u001b[1;33m=\u001b[0m\u001b[1;36m4.0\u001b[0m\u001b[1;33m,\u001b[0m \u001b[0mis_on_probation\u001b[0m\u001b[1;33m=\u001b[0m\u001b[1;32mFalse\u001b[0m\u001b[1;33m)\u001b[0m\u001b[1;33m\u001b[0m\u001b[1;33m\u001b[0m\u001b[0m\n\u001b[0m\u001b[0;32m     14\u001b[0m \u001b[1;33m\u001b[0m\u001b[0m\n\u001b[0;32m     15\u001b[0m \u001b[0mprint\u001b[0m\u001b[1;33m(\u001b[0m\u001b[0mstudent1\u001b[0m\u001b[1;33m.\u001b[0m\u001b[0mname\u001b[0m\u001b[1;33m)\u001b[0m\u001b[1;33m\u001b[0m\u001b[1;33m\u001b[0m\u001b[0m\n",
      "\u001b[1;31mTypeError\u001b[0m: student() takes no arguments"
     ]
    }
   ],
   "source": [
    "#Classes and objects - \n",
    "\n",
    "#Classes are used for creating specialized data types - we can model real world objects and create our own data types\n",
    "\n",
    "class student():                                                                         #class defines what \"student\" is\n",
    "                                                                                   #an object is an actual student\n",
    "    def _init_(self, name, major, gpa, is_on_probation):\n",
    "        self.name = name\n",
    "        self.gpa = gpa\n",
    "        self.major = major\n",
    "        self.is_on_probation = is_on_probationon\n",
    "\n",
    "                                                                                                                "
   ]
  },
  {
   "cell_type": "code",
   "execution_count": 12,
   "metadata": {},
   "outputs": [
    {
     "name": "stdout",
     "output_type": "stream",
     "text": [
      "Jim\n",
      "3.1\n",
      "Pam\n",
      "Art\n"
     ]
    }
   ],
   "source": [
    "#Classes and objects - \n",
    "\n",
    "#Classes are used for creating specialized data types - we can model real world objects and create our own data types\n",
    "\n",
    "from Student1 import Student\n",
    "\n",
    "student2 = Student(\"Jim\", \"Business\", 3.1, False)\n",
    "student3 = Student(\"Pam\", \"Art\", 2.5, True)\n",
    "print(student2.name)\n",
    "print(student2.gpa)\n",
    "print(student3.name)\n",
    "print(student3.major)"
   ]
  },
  {
   "cell_type": "code",
   "execution_count": 23,
   "metadata": {},
   "outputs": [
    {
     "ename": "TypeError",
     "evalue": "student() takes no arguments",
     "output_type": "error",
     "traceback": [
      "\u001b[1;31m---------------------------------------------------------------------------\u001b[0m",
      "\u001b[1;31mTypeError\u001b[0m                                 Traceback (most recent call last)",
      "\u001b[1;32m~\\AppData\\Local\\Temp/ipykernel_13644/2614492912.py\u001b[0m in \u001b[0;36m<module>\u001b[1;34m\u001b[0m\n\u001b[1;32m----> 1\u001b[1;33m \u001b[0mstudent1\u001b[0m \u001b[1;33m=\u001b[0m \u001b[0mstudent\u001b[0m\u001b[1;33m(\u001b[0m\u001b[0mname\u001b[0m\u001b[1;33m=\u001b[0m\u001b[1;34m\"John\"\u001b[0m\u001b[1;33m,\u001b[0m \u001b[0mmajor\u001b[0m\u001b[1;33m=\u001b[0m\u001b[1;34m\"Finance\"\u001b[0m\u001b[1;33m,\u001b[0m \u001b[0mgpa\u001b[0m\u001b[1;33m=\u001b[0m\u001b[1;36m4.0\u001b[0m\u001b[1;33m,\u001b[0m \u001b[0mis_on_probation\u001b[0m\u001b[1;33m=\u001b[0m\u001b[1;32mFalse\u001b[0m\u001b[1;33m)\u001b[0m\u001b[1;33m\u001b[0m\u001b[1;33m\u001b[0m\u001b[0m\n\u001b[0m\u001b[0;32m      2\u001b[0m \u001b[1;33m\u001b[0m\u001b[0m\n\u001b[0;32m      3\u001b[0m \u001b[0mprint\u001b[0m\u001b[1;33m(\u001b[0m\u001b[0mstudent1\u001b[0m\u001b[1;33m.\u001b[0m\u001b[0mname\u001b[0m\u001b[1;33m)\u001b[0m                                  \u001b[1;31m#should work in different settings, dunno how to fix atm.\u001b[0m\u001b[1;33m\u001b[0m\u001b[1;33m\u001b[0m\u001b[0m\n",
      "\u001b[1;31mTypeError\u001b[0m: student() takes no arguments"
     ]
    }
   ],
   "source": [
    "# SEE ABOVE...i had to go to the newly created notebook (with code and all), click on \"files\">\"Download as\">\"Python\". This will download the notebook as a .py file which  you can copy and paste in your working directory\n",
    "\n",
    "student1 = student(name=\"John\", major=\"Finance\", gpa=4.0, is_on_probation=False)\n",
    "\n",
    "print(student1.name)                                  #should work in different settings, dunno how to fix atm.\n",
    "\n"
   ]
  },
  {
   "cell_type": "code",
   "execution_count": 19,
   "metadata": {},
   "outputs": [
    {
     "ename": "TypeError",
     "evalue": "Question() takes no arguments",
     "output_type": "error",
     "traceback": [
      "\u001b[1;31m---------------------------------------------------------------------------\u001b[0m",
      "\u001b[1;31mTypeError\u001b[0m                                 Traceback (most recent call last)",
      "\u001b[1;32m~\\AppData\\Local\\Temp/ipykernel_26292/3085051555.py\u001b[0m in \u001b[0;36m<module>\u001b[1;34m\u001b[0m\n\u001b[0;32m      9\u001b[0m \u001b[1;33m\u001b[0m\u001b[0m\n\u001b[0;32m     10\u001b[0m questions = [\n\u001b[1;32m---> 11\u001b[1;33m     \u001b[0mQuestion\u001b[0m\u001b[1;33m(\u001b[0m\u001b[0mquestion_prompts\u001b[0m\u001b[1;33m[\u001b[0m\u001b[1;36m0\u001b[0m\u001b[1;33m]\u001b[0m\u001b[1;33m,\u001b[0m \u001b[1;34m\"a\"\u001b[0m\u001b[1;33m)\u001b[0m\u001b[1;33m,\u001b[0m\u001b[1;33m\u001b[0m\u001b[1;33m\u001b[0m\u001b[0m\n\u001b[0m\u001b[0;32m     12\u001b[0m     \u001b[0mQuestion\u001b[0m\u001b[1;33m(\u001b[0m\u001b[0mquestion_prompts\u001b[0m\u001b[1;33m[\u001b[0m\u001b[1;36m1\u001b[0m\u001b[1;33m]\u001b[0m\u001b[1;33m,\u001b[0m \u001b[1;34m\"c\"\u001b[0m\u001b[1;33m)\u001b[0m\u001b[1;33m,\u001b[0m\u001b[1;33m\u001b[0m\u001b[1;33m\u001b[0m\u001b[0m\n\u001b[0;32m     13\u001b[0m     \u001b[0mQuestion\u001b[0m\u001b[1;33m(\u001b[0m\u001b[0mquestion_prompts\u001b[0m\u001b[1;33m[\u001b[0m\u001b[1;36m2\u001b[0m\u001b[1;33m]\u001b[0m\u001b[1;33m,\u001b[0m \u001b[1;34m\"b\"\u001b[0m\u001b[1;33m)\u001b[0m\u001b[1;33m,\u001b[0m                              \u001b[1;31m#same issue, dunno why it won't run\u001b[0m\u001b[1;33m\u001b[0m\u001b[1;33m\u001b[0m\u001b[0m\n",
      "\u001b[1;31mTypeError\u001b[0m: Question() takes no arguments"
     ]
    }
   ],
   "source": [
    "# multiple choice quiz\n",
    "\n",
    "from Question1 import Question\n",
    "question_prompts = [\n",
    "    \"What color are apples?\\n(a) Red/Green\\n(b) Purple\\n(c) Orange\\n\\n\"\n",
    "    \"What color are bananas?\\n(a) Teal\\n(b) Magenta\\n(c) Yellow\\n\\n\"\n",
    "    \"What color are strawberries?\\n(a) Yellow\\n(b) Red\\n(c) Blue\\n\\n\" \n",
    "]\n",
    "\n",
    "questions = [\n",
    "    Question(question_prompts[0], \"a\"),\n",
    "    Question(question_prompts[1], \"c\"),\n",
    "    Question(question_prompts[2], \"b\"),                              #same issue, dunno why it won't run\n",
    "]\n",
    "\n",
    "\n",
    "def run_test(questions):\n",
    "    score = 0\n",
    "    for question in questions:                                       #we created \"question\" variable with this line. So we can use \"question.answer\" just like \"student2.name\" from previous cell\n",
    "        answer = input(question.prompt)\n",
    "        if answer == question.answer:\n",
    "            score += 1\n",
    "    print(\"You got \" + str(score) + \"/\" + str(len(questions)) + \"correct\")\n",
    "    \n",
    "run_test(questions)"
   ]
  },
  {
   "cell_type": "code",
   "execution_count": 4,
   "metadata": {},
   "outputs": [
    {
     "name": "stdout",
     "output_type": "stream",
     "text": [
      "What color are apples?\n",
      "(a) Red/Green\n",
      "(b) Purple\n",
      "(c) Orange\n",
      "\n",
      "b\n",
      "What color are bananas?\n",
      "(a) Teal\n",
      "(b) Magenta\n",
      "(c) Yellow\n",
      "\n",
      "c\n",
      "What color are strawberries?\n",
      "(a) Yellow\n",
      "(b) Red\n",
      "(c) Blue\n",
      "\n",
      "b\n",
      "You got 2/3 correct!\n"
     ]
    }
   ],
   "source": [
    "# multiple choice quiz\n",
    "#FIXED!!!! ---> had to create all new file \"Question2\" as \"Question1\" seemed tainted.\n",
    "#same issue, dunno why it won't run>>>Wasn't same issue. I got a \"Type Error\" above because in the module(\"Question1\"), I spelt \"init\" as \"int\"\n",
    "\n",
    "from Question2 import Question\n",
    "\n",
    "question_prompts = [\n",
    "    \"What color are apples?\\n(a) Red/Green\\n(b) Purple\\n(c) Orange\\n\\n\",\n",
    "    \"What color are bananas?\\n(a) Teal\\n(b) Magenta\\n(c) Yellow\\n\\n\",\n",
    "    \"What color are strawberries?\\n(a) Yellow\\n(b) Red\\n(c) Blue\\n\\n\" \n",
    "]\n",
    "\n",
    "questions = [\n",
    "    Question(question_prompts[0], \"a\"),\n",
    "    Question(question_prompts[1], \"c\"),                               \n",
    "    Question(question_prompts[2], \"b\")                              \n",
    "]\n",
    "\n",
    "\n",
    "def run_test(questions):\n",
    "    score = 0\n",
    "    for question in questions:                                       #we created \"question\" variable with this line. So we can use \"question.answer\" just like \"student2.name\" from previous cell\n",
    "        answer = input(question.prompt)\n",
    "        if answer == question.answer:\n",
    "            score += 1\n",
    "    print(\"You got \" + str(score) + \"/\" + str(len(questions)) + \" correct!\")\n",
    "    \n",
    "run_test(questions)"
   ]
  },
  {
   "cell_type": "code",
   "execution_count": 9,
   "metadata": {},
   "outputs": [
    {
     "name": "stdout",
     "output_type": "stream",
     "text": [
      "False\n",
      "True\n"
     ]
    }
   ],
   "source": [
    "# Classes: functions with objects inside classes in python\n",
    "\n",
    "from Student1 import Student\n",
    "\n",
    "\n",
    "student2 = Student(\"Oscar\", \"Accounting\", 3.1, False)\n",
    "student3 = Student(\"Phyllis\", \"Business\", 3.8, False)\n",
    "\n",
    "\n",
    "print(student2.on_honor_roll())\n",
    "print(student3.on_honor_roll())\n",
    "        "
   ]
  },
  {
   "cell_type": "code",
   "execution_count": 1,
   "metadata": {},
   "outputs": [
    {
     "name": "stdout",
     "output_type": "stream",
     "text": [
      "Enter student name: James\n",
      "Oscar is not on honor roll\n",
      "Enter student name: Phyllis\n",
      "Phyllis is on honor roll\n"
     ]
    }
   ],
   "source": [
    "# Class functions with objects in python - improving (NOT PERFECT YET!)\n",
    "\n",
    "from Student1 import Student\n",
    "\n",
    "students =[Student(\"Oscar\", \"Accounting\", 3.1, False),\n",
    "           Student(\"Phyllis\", \"Business\", 3.8, False)  \n",
    "]\n",
    "\n",
    "\n",
    "# if student2.on_honor_roll() == False:\n",
    "#     print(student2.name + \" is not on honor roll\")\n",
    "# else:\n",
    "#     print(student2.name + \" is on honor roll\")\n",
    "#print(student3.on_honor_roll())\n",
    "\n",
    "\n",
    "\n",
    "\n",
    "def check(students):\n",
    "    for stu_dent in students:                                       \n",
    "        stu_ = input(\"Enter student name: \")\n",
    "        while stu_.isupper() == stu_dent.name.isupper():                 #a/c for case sensitivity\n",
    "            if stu_dent.on_honor_roll() == False:\n",
    "                print(stu_dent.name + \" is not on honor roll\")\n",
    "            else:\n",
    "                print(stu_dent.name + \" is on honor roll\")  \n",
    "            break\n",
    "            \n",
    "            \n",
    "# if stu_ != stu_dent.name:\n",
    "#     print(\"Student not enrolled\")\n",
    "\n",
    "check(students)     "
   ]
  },
  {
   "cell_type": "code",
   "execution_count": 1,
   "metadata": {},
   "outputs": [
    {
     "name": "stdout",
     "output_type": "stream",
     "text": [
      "The chef makes chicken\n",
      "The chef makes lamb\n"
     ]
    }
   ],
   "source": [
    "#inheritance\n",
    "from Chef1 import Chef\n",
    "\n",
    "myChef = Chef()\n",
    "\n",
    "myChef.make_chicken()\n",
    "myChef.make_special_dish()\n"
   ]
  },
  {
   "cell_type": "code",
   "execution_count": 2,
   "metadata": {},
   "outputs": [
    {
     "name": "stdout",
     "output_type": "stream",
     "text": [
      "The chef makes lamb\n",
      "The chef makes Orange chicken\n"
     ]
    }
   ],
   "source": [
    "#inheritance - Say we wanted to model a different kind of Chef\n",
    "from Chef1 import Chef\n",
    "from ChineseChef import ChineseChef\n",
    "\n",
    "myChef = Chef()\n",
    "myChef.make_special_dish()\n",
    "\n",
    "myChineseChef = ChineseChef()\n",
    "myChineseChef.make_special_dish()\n",
    "\n"
   ]
  },
  {
   "cell_type": "code",
   "execution_count": 4,
   "metadata": {},
   "outputs": [
    {
     "name": "stdout",
     "output_type": "stream",
     "text": [
      "The chef makes lamb\n",
      "The chef makes chicken\n",
      "The chef makes lamb\n"
     ]
    }
   ],
   "source": [
    "#inheritance - Say we wanted to model a different kind of Chef- ALTERNATIVELY, instead of copying to a new module with class (\".py\" file), I could inherit from another class- see ChineseChef1\n",
    "\n",
    "from Chef1 import Chef\n",
    "from ChineseChef1 import ChineseChef\n",
    "            \n",
    "myChef = Chef()\n",
    "myChef.make_special_dish()\n",
    "\n",
    "myChineseChef = ChineseChef()\n",
    "myChineseChef.make_chicken()                              #I can inherit the properties from the Chef class here, and get the output\n",
    "myChineseChef.make_special_dish()                         #HOWEVER, the output for a special dish is not the same for both Chef and ChineseChef! see fix below"
   ]
  },
  {
   "cell_type": "code",
   "execution_count": 5,
   "metadata": {},
   "outputs": [
    {
     "name": "stdout",
     "output_type": "stream",
     "text": [
      "The chef makes lamb\n",
      "The chef makes chicken\n",
      "The chef makes orange chicken\n"
     ]
    }
   ],
   "source": [
    "#inheritance - correction for above cell, see ChineseChef2.py for this case only -see output!\n",
    "from Chef1 import Chef\n",
    "from ChineseChef2 import ChineseChef\n",
    "            \n",
    "myChef = Chef()\n",
    "myChef.make_special_dish()\n",
    "\n",
    "myChineseChef = ChineseChef()\n",
    "myChineseChef.make_chicken()                             \n",
    "myChineseChef.make_special_dish()                         "
   ]
  },
  {
   "cell_type": "code",
   "execution_count": null,
   "metadata": {},
   "outputs": [],
   "source": [
    "#python interpreter -environment for executing, more like testing out python commands\n",
    "\n"
   ]
  },
  {
   "cell_type": "code",
   "execution_count": 18,
   "metadata": {},
   "outputs": [
    {
     "name": "stdout",
     "output_type": "stream",
     "text": [
      "Enter an expression: (2*3\n",
      "(2*3 - Unbalanced\n"
     ]
    }
   ],
   "source": [
    "# Python3 code to Check for\n",
    "# balanced parentheses in an expression\n",
    "open_list = [\"[\",\"{\",\"(\"]\n",
    "close_list = [\"]\",\"}\",\")\"]\n",
    "\n",
    "# Function to check parentheses\n",
    "def check(myStr):\n",
    "\tstack = []\n",
    "\tfor i in myStr:\n",
    "\t\tif i in open_list:\n",
    "\t\t\tstack.append(i)\n",
    "\t\telif i in close_list:\n",
    "\t\t\tpos = close_list.index(i)\n",
    "\t\t\tif ((len(stack) > 0) and\n",
    "\t\t\t\t(open_list[pos] == stack[len(stack)-1])):\n",
    "\t\t\t\tstack.pop()\n",
    "\t\t\telse:\n",
    "\t\t\t\treturn \"Unbalanced\"\n",
    "\tif len(stack) == 0:\n",
    "\t\treturn \"Balanced\"\n",
    "\telse:\n",
    "\t\treturn \"Unbalanced\"\n",
    "\n",
    "\n",
    "# Driver code\n",
    "string = input(\"Enter an expression: \")\n",
    "#string = \"{[]{()}}\"\n",
    "print(string,\"-\", check(string))\n",
    "\n",
    "# string = \"[{}{})(]\"\n",
    "# print(string,\"-\", check(string))\n",
    "\n",
    "# string = \"((()\"\n",
    "# print(string,\"-\",check(string))\n"
   ]
  },
  {
   "cell_type": "code",
   "execution_count": 29,
   "metadata": {},
   "outputs": [
    {
     "name": "stdout",
     "output_type": "stream",
     "text": [
      "(2*3)\n",
      "Y ()()\n"
     ]
    }
   ],
   "source": [
    "# Complete the code in this function. \n",
    "\n",
    "open_list = [\"[\",\"{\",\"(\"]\n",
    "close_list = [\"]\",\"}\",\")\"]\n",
    "#lines = [\"\"]\n",
    "def balanced_parens(line):\n",
    "    lines = []\n",
    "    \n",
    "   # complete code here\n",
    "    for i in line:\n",
    "        x=str(lines)\n",
    "        x=x.replace(\"(\",\"*(\")\n",
    "        x=x.replace(\")\",\")*\")\n",
    "        y=x.split(\"*\")\n",
    "        res=[]\n",
    "        for k in y:\n",
    "            if len(k)!=0:\n",
    "                if k[0]==\"(\" and k[-1]==\")\":\n",
    "                    res.append(\"()\")\n",
    "            else:\n",
    "                res.append(k)\n",
    "        res=\"\".join(res)\n",
    "        if i in open_list:\n",
    "            lines.append(i)\n",
    "        elif i in close_list:\n",
    "            pos = close_list.index(i)\n",
    "            if ((len(lines)) > 0) and ((open_list[pos]) == lines[(len(lines)-1)]):\n",
    "                lines.pop()\n",
    "            else:\n",
    "                return \"N \"\n",
    "            break  \n",
    "    if len(lines) == 0:\n",
    "        return \"Y \" + res\n",
    "    else:\n",
    "        return \"N\"\n",
    "   \n",
    "    \n",
    "# Accept input from standard input\n",
    "line = input()\n",
    "print(balanced_parens(line) + res)\n",
    "#print(res)\n"
   ]
  },
  {
   "cell_type": "code",
   "execution_count": 25,
   "metadata": {},
   "outputs": [
    {
     "name": "stdout",
     "output_type": "stream",
     "text": [
      "()()\n"
     ]
    }
   ],
   "source": [
    "# Input string\n",
    "# Input string\n",
    "string=\"(Geeks)(Geeks)\"\n",
    " \n",
    "# resultant string\n",
    "x=string\n",
    "x=x.replace(\"(\",\"*(\")\n",
    "x=x.replace(\")\",\")*\")\n",
    "y=x.split(\"*\")\n",
    "res=[]\n",
    "for i in y:\n",
    "    if len(i)!=0:\n",
    "        if i[0]==\"(\" and i[-1]==\")\":\n",
    "            res.append(\"()\")\n",
    "        else:\n",
    "            res.append(i)\n",
    "res=\"\".join(res)\n",
    "print(res)"
   ]
  },
  {
   "cell_type": "code",
   "execution_count": 30,
   "metadata": {},
   "outputs": [
    {
     "data": {
      "text/plain": [
       "'This is a sentence. () []'"
      ]
     },
     "execution_count": 30,
     "metadata": {},
     "output_type": "execute_result"
    }
   ],
   "source": [
    "import re \n",
    ">>> x = \"This is a sentence. (once a day) [twice a day]\"\n",
    ">>> re.sub(\"([\\(\\[]).*?([\\)\\]])\", \"\\g<1>\\g<2>\", x)"
   ]
  },
  {
   "cell_type": "code",
   "execution_count": 46,
   "metadata": {},
   "outputs": [
    {
     "name": "stdout",
     "output_type": "stream",
     "text": [
      "((1+2) * (3-4))\n",
      "Y () * ())\n"
     ]
    }
   ],
   "source": [
    "# Complete the code in this function. \n",
    "import re\n",
    "\n",
    "open_list = [\"[\",\"{\",\"(\"]\n",
    "close_list = [\"]\",\"}\",\")\"]\n",
    "#lines = [\"\"]\n",
    "def balanced_parens(line):\n",
    "    lines = []\n",
    "    \n",
    "   # complete code here\n",
    "    for i in line:\n",
    "       \n",
    "        if i in open_list:\n",
    "            lines.append(i)\n",
    "        elif i in close_list:\n",
    "            pos = close_list.index(i)\n",
    "            if ((len(lines)) > 0) and ((open_list[pos]) == lines[(len(lines)-1)]):\n",
    "                lines.pop()\n",
    "            else:\n",
    "                return \"N \" + re.sub(\"([\\(\\[]).*?([\\)\\]])\", \"\\g<1>\\g<2>\", str(line))\n",
    "             \n",
    "    if len(lines) == 0:\n",
    "        return \"Y \" + re.sub(\"([\\(\\[]).*?([\\)\\]])\", \"\\g<1>\\g<2>\", str(line))\n",
    "    else:\n",
    "        return \"N \" + re.sub(\"([\\(\\[]).*?([\\)\\]])\", \"\\g<1>\\g<2>\", str(line))\n",
    "   \n",
    "    \n",
    "# Accept input from standard input\n",
    "line = input()\n",
    "print(balanced_parens(line))\n",
    "#print(res)\n"
   ]
  },
  {
   "cell_type": "code",
   "execution_count": 3,
   "metadata": {},
   "outputs": [
    {
     "ename": "ValueError",
     "evalue": "must specify the einstein sum subscripts string and at least one operand",
     "output_type": "error",
     "traceback": [
      "\u001b[1;31m---------------------------------------------------------------------------\u001b[0m",
      "\u001b[1;31mValueError\u001b[0m                                Traceback (most recent call last)",
      "\u001b[1;32m~\\AppData\\Local\\Temp/ipykernel_33928/2848265734.py\u001b[0m in \u001b[0;36m<module>\u001b[1;34m\u001b[0m\n\u001b[0;32m      2\u001b[0m \u001b[1;32mimport\u001b[0m \u001b[0mnumpy\u001b[0m \u001b[1;32mas\u001b[0m \u001b[0mnp\u001b[0m\u001b[1;33m\u001b[0m\u001b[1;33m\u001b[0m\u001b[0m\n\u001b[0;32m      3\u001b[0m \u001b[1;33m\u001b[0m\u001b[0m\n\u001b[1;32m----> 4\u001b[1;33m \u001b[0mC\u001b[0m \u001b[1;33m=\u001b[0m \u001b[0mnp\u001b[0m\u001b[1;33m.\u001b[0m\u001b[0meinsum\u001b[0m\u001b[1;33m(\u001b[0m\u001b[1;34m'3l, l2'\u001b[0m\u001b[1;33m)\u001b[0m\u001b[1;33m\u001b[0m\u001b[1;33m\u001b[0m\u001b[0m\n\u001b[0m\u001b[0;32m      5\u001b[0m \u001b[0mprint\u001b[0m\u001b[1;33m(\u001b[0m\u001b[0mC\u001b[0m\u001b[1;33m)\u001b[0m\u001b[1;33m\u001b[0m\u001b[1;33m\u001b[0m\u001b[0m\n",
      "\u001b[1;32m<__array_function__ internals>\u001b[0m in \u001b[0;36meinsum\u001b[1;34m(*args, **kwargs)\u001b[0m\n",
      "\u001b[1;32m~\\anaconda3\\lib\\site-packages\\numpy\\core\\einsumfunc.py\u001b[0m in \u001b[0;36meinsum\u001b[1;34m(out, optimize, *operands, **kwargs)\u001b[0m\n\u001b[0;32m   1357\u001b[0m         \u001b[1;32mif\u001b[0m \u001b[0mspecified_out\u001b[0m\u001b[1;33m:\u001b[0m\u001b[1;33m\u001b[0m\u001b[1;33m\u001b[0m\u001b[0m\n\u001b[0;32m   1358\u001b[0m             \u001b[0mkwargs\u001b[0m\u001b[1;33m[\u001b[0m\u001b[1;34m'out'\u001b[0m\u001b[1;33m]\u001b[0m \u001b[1;33m=\u001b[0m \u001b[0mout\u001b[0m\u001b[1;33m\u001b[0m\u001b[1;33m\u001b[0m\u001b[0m\n\u001b[1;32m-> 1359\u001b[1;33m         \u001b[1;32mreturn\u001b[0m \u001b[0mc_einsum\u001b[0m\u001b[1;33m(\u001b[0m\u001b[1;33m*\u001b[0m\u001b[0moperands\u001b[0m\u001b[1;33m,\u001b[0m \u001b[1;33m**\u001b[0m\u001b[0mkwargs\u001b[0m\u001b[1;33m)\u001b[0m\u001b[1;33m\u001b[0m\u001b[1;33m\u001b[0m\u001b[0m\n\u001b[0m\u001b[0;32m   1360\u001b[0m \u001b[1;33m\u001b[0m\u001b[0m\n\u001b[0;32m   1361\u001b[0m     \u001b[1;31m# Check the kwargs to avoid a more cryptic error later, without having to\u001b[0m\u001b[1;33m\u001b[0m\u001b[1;33m\u001b[0m\u001b[1;33m\u001b[0m\u001b[0m\n",
      "\u001b[1;31mValueError\u001b[0m: must specify the einstein sum subscripts string and at least one operand"
     ]
    }
   ],
   "source": [
    "import math\n",
    "import numpy as np\n",
    "\n",
    "C = np.einsum('3l, l2')\n",
    "print(C)"
   ]
  },
  {
   "cell_type": "code",
   "execution_count": 8,
   "metadata": {},
   "outputs": [
    {
     "name": "stdout",
     "output_type": "stream",
     "text": [
      "Fuckin:  [[1, 2, 3], [4, 5, 6], [7, 8, 9]]\n"
     ]
    }
   ],
   "source": [
    "#FROM HERE ON OUT>>>>>>  IT'S ALL ME !!!!!!!!!!!!!!!<<<<<<<<<<<<<<<<<<<<<<<<<<<<<<\n",
    "\n",
    "\n",
    "\n",
    "\n",
    "\n",
    "\n",
    "\n",
    "\n",
    "\n",
    "\n",
    "X = [[1, 2, 3],[4, 5, 6], [7, 8, 9]]\n",
    "\n",
    "print(\"Fuckin: \", X)\n"
   ]
  },
  {
   "cell_type": "code",
   "execution_count": 9,
   "metadata": {},
   "outputs": [
    {
     "name": "stdout",
     "output_type": "stream",
     "text": [
      "3\n"
     ]
    }
   ],
   "source": [
    "X = [[1, 2, 3],[4, 5, 6], [7, 8, 9]]\n",
    "print(len(X))                                     #don't get why i always get 3"
   ]
  },
  {
   "cell_type": "code",
   "execution_count": 15,
   "metadata": {},
   "outputs": [
    {
     "name": "stdout",
     "output_type": "stream",
     "text": [
      "[10, 10, 10]\n",
      "[10, 10, 10]\n",
      "[10, 10, 10]\n"
     ]
    }
   ],
   "source": [
    "\n",
    "# Mathematical ops with Python\n",
    "\n",
    "# Program to add two matrices using nested loop\n",
    "X = [[1, 2, 3],[4, 5, 6], [7, 8, 9]]\n",
    "Y = [[9, 8, 7], [6, 5, 4], [3, 2, 1]]\n",
    "\n",
    "result = [[0, 0, 0], [0, 0, 0], [0, 0, 0]]\n",
    "\n",
    "# iterate through rows\n",
    "for row in range(len(X)):\n",
    "\n",
    "\t# iterate through columns\n",
    "\tfor column in range(len(X[0])):\n",
    "\t\tresult[row][column] = X[row][column]+ Y[row][column]\n",
    "\n",
    "for r in result:\n",
    "\n",
    "    print(r)\n",
    "\n"
   ]
  },
  {
   "cell_type": "code",
   "execution_count": 16,
   "metadata": {},
   "outputs": [
    {
     "name": "stdout",
     "output_type": "stream",
     "text": [
      "[9, 6, 3]\n",
      "[8, 5, 2]\n",
      "[7, 4, 1]\n"
     ]
    }
   ],
   "source": [
    "#Transpose in matrix\n",
    "\n",
    "\n",
    "X = [[9, 8, 7], [6, 5, 4], [3, 2, 1]]\n",
    "\n",
    "result = [[0, 0, 0], [0, 0, 0], [0, 0, 0]]\n",
    "\n",
    "# iterate through rows\n",
    "for row in range(len(X)):\n",
    "\t# iterate through columns\n",
    "\tfor column in range(len(X[0])):\n",
    "\t\tresult[column][row] = X[row][column]\n",
    "\n",
    "for r in result:\n",
    "\tprint(r)\n",
    "\t\n",
    "# # Python Program to Transpose a Matrix using the list comprehension\n",
    "\n",
    "# rez = [[X[column][row] for column in range(len(X))]\n",
    "# for row in range(len(X[0]))]\n",
    "\n",
    "# for row in rez:\n",
    "#\t print(row)\n"
   ]
  },
  {
   "cell_type": "code",
   "execution_count": 11,
   "metadata": {},
   "outputs": [
    {
     "data": {
      "image/png": "[encoded data removed]",
      "text/plain": [
       "<Figure size 432x288 with 1 Axes>"
      ]
     },
     "metadata": {
      "needs_background": "light"
     },
     "output_type": "display_data"
    },
    {
     "data": {
      "image/png": "[encoded data removed]",
      "text/plain": [
       "<Figure size 432x288 with 1 Axes>"
      ]
     },
     "metadata": {
      "needs_background": "light"
     },
     "output_type": "display_data"
    },
    {
     "data": {
      "image/png": "[encoded data removed]",
      "text/plain": [
       "<Figure size 432x288 with 1 Axes>"
      ]
     },
     "metadata": {
      "needs_background": "light"
     },
     "output_type": "display_data"
    }
   ],
   "source": [
    "#Plot sine and cosine curve\n",
    "\n",
    "\n",
    "\n",
    "import matplotlib.pyplot as plt\n",
    "import numpy as np\n",
    "\n",
    "# Data for plotting\n",
    "t = np.arange(0.0, 24, 0.01)      #I DONT UNDERSTAND!!!!\n",
    "\n",
    "# Sine Plot\n",
    "s = np.sin(t)\n",
    "fig, ax = plt.subplots()\n",
    "ax.plot(t, s)\n",
    "ax.set(xlabel='radians', ylabel='Sin(x)',\n",
    "       title='Sine Plot')\n",
    "ax.grid()\n",
    "plt.show()\n",
    "\n",
    "# Cosine Plot\n",
    "s = np.cos(t)\n",
    "fig, ax = plt.subplots()\n",
    "ax.plot(t, s)\n",
    "ax.set(xlabel='radians', ylabel='(cosx)',\n",
    "       title='Cosine Plot')\n",
    "ax.grid()\n",
    "plt.show()\n",
    "\n",
    "# Tangent Plot\n",
    "t = np.arange(0.0, 1, 0.01)       #I DONT UNDERSTAND!!!!\n",
    "s = np.tan(t)\n",
    "fig, ax = plt.subplots()\n",
    "ax.plot(t, s)\n",
    "ax.set(xlabel='radians', ylabel='tan(x)',\n",
    "       title='Tangent Plot')\n",
    "ax.grid()\n",
    "plt.show()"
   ]
  },
  {
   "cell_type": "code",
   "execution_count": null,
   "metadata": {},
   "outputs": [],
   "source": []
  }
 ],
 "metadata": {
  "kernelspec": {
   "display_name": "Python 3 (ipykernel)",
   "language": "python",
   "name": "python3"
  },
  "language_info": {
   "codemirror_mode": {
    "name": "ipython",
    "version": 3
   },
   "file_extension": ".py",
   "mimetype": "text/x-python",
   "name": "python",
   "nbconvert_exporter": "python",
   "pygments_lexer": "ipython3",
   "version": "3.8.5"
  }
 },
 "nbformat": 4,
 "nbformat_minor": 4
}
