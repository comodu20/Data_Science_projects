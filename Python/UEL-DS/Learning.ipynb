{
 "cells": [
  {
   "cell_type": "code",
   "execution_count": 1,
   "id": "2d03c777",
   "metadata": {},
   "outputs": [
    {
     "name": "stdout",
     "output_type": "stream",
     "text": [
      "2.0999999046325684\n"
     ]
    }
   ],
   "source": [
    "import array as arr\n",
    "a=arr.array( 'f', [1.1 , 2.1 ,3.1] )   #CAn use f = 4 bytes\n",
    "print(a[1])"
   ]
  },
  {
   "cell_type": "code",
   "execution_count": 2,
   "id": "8ca679ee",
   "metadata": {},
   "outputs": [
    {
     "name": "stdout",
     "output_type": "stream",
     "text": [
      "2.1\n"
     ]
    }
   ],
   "source": [
    "import array as arr\n",
    "a=arr.array( 'd', [1.1 , 2.1 ,3.1] )  #CAn use d = 8 bytes\n",
    "print(a[1])"
   ]
  },
  {
   "cell_type": "code",
   "execution_count": 3,
   "id": "b823d06a",
   "metadata": {},
   "outputs": [
    {
     "ename": "TypeError",
     "evalue": "'float' object cannot be interpreted as an integer",
     "output_type": "error",
     "traceback": [
      "\u001b[1;31m---------------------------------------------------------------------------\u001b[0m",
      "\u001b[1;31mTypeError\u001b[0m                                 Traceback (most recent call last)",
      "Cell \u001b[1;32mIn[3], line 2\u001b[0m\n\u001b[0;32m      1\u001b[0m \u001b[38;5;28;01mimport\u001b[39;00m \u001b[38;5;21;01marray\u001b[39;00m \u001b[38;5;28;01mas\u001b[39;00m \u001b[38;5;21;01marr\u001b[39;00m\n\u001b[1;32m----> 2\u001b[0m a\u001b[38;5;241m=\u001b[39marr\u001b[38;5;241m.\u001b[39marray( \u001b[38;5;124m'\u001b[39m\u001b[38;5;124mi\u001b[39m\u001b[38;5;124m'\u001b[39m, [\u001b[38;5;241m1.1\u001b[39m , \u001b[38;5;241m2.1\u001b[39m ,\u001b[38;5;241m3.1\u001b[39m] ) \u001b[38;5;66;03m#CAn't use i for a float\u001b[39;00m\n\u001b[0;32m      3\u001b[0m \u001b[38;5;28mprint\u001b[39m(a[\u001b[38;5;241m1\u001b[39m])\n",
      "\u001b[1;31mTypeError\u001b[0m: 'float' object cannot be interpreted as an integer"
     ]
    }
   ],
   "source": [
    "import array as arr\n",
    "a=arr.array( 'i', [1.1 , 2.1 ,3.1] ) #CAn't use i for a float\n",
    "print(a[1])"
   ]
  },
  {
   "cell_type": "code",
   "execution_count": 4,
   "id": "f833f86b",
   "metadata": {},
   "outputs": [
    {
     "name": "stdout",
     "output_type": "stream",
     "text": [
      "2\n"
     ]
    }
   ],
   "source": [
    "import array as arr\n",
    "a=arr.array( 'i', [1 , 2 ,3] ) \n",
    "print(a[1])"
   ]
  },
  {
   "cell_type": "code",
   "execution_count": 5,
   "id": "2f27bf91",
   "metadata": {},
   "outputs": [
    {
     "name": "stdout",
     "output_type": "stream",
     "text": [
      "2\n"
     ]
    }
   ],
   "source": [
    "import array as arr\n",
    "a=arr.array( 'L', [1 , 2 ,3] )  #can use codes i,I,h,H = 2 bytes; l,L = 4 bytes\n",
    "print(a[1])"
   ]
  },
  {
   "cell_type": "code",
   "execution_count": 6,
   "id": "9bc500ee",
   "metadata": {},
   "outputs": [
    {
     "name": "stdout",
     "output_type": "stream",
     "text": [
      "array('i', [1, 2])\n"
     ]
    }
   ],
   "source": [
    "import array as arr\n",
    "a=arr.array( 'i', [1 , 2 ,3] )  #interesting output, WHY?\n",
    "print(a[0:2])"
   ]
  },
  {
   "cell_type": "code",
   "execution_count": null,
   "id": "08d11bc1",
   "metadata": {},
   "outputs": [],
   "source": []
  }
 ],
 "metadata": {
  "kernelspec": {
   "display_name": "morgpy",
   "language": "python",
   "name": "python3"
  },
  "language_info": {
   "codemirror_mode": {
    "name": "ipython",
    "version": 3
   },
   "file_extension": ".py",
   "mimetype": "text/x-python",
   "name": "python",
   "nbconvert_exporter": "python",
   "pygments_lexer": "ipython3",
   "version": "3.13.2"
  }
 },
 "nbformat": 4,
 "nbformat_minor": 5
}
