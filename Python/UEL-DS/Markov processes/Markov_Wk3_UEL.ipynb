{
 "cells": [
  {
   "cell_type": "code",
   "execution_count": 6,
   "metadata": {},
   "outputs": [
    {
     "data": {
      "text/plain": [
       "array([[0.3325, 0.6675]])"
      ]
     },
     "execution_count": 6,
     "metadata": {},
     "output_type": "execute_result"
    }
   ],
   "source": [
    "import numpy as np\n",
    "\n",
    "A = np.array([[.88, .12], [.15, .85]])\n",
    "\n",
    "B = np.array([[.25, .75]])\n",
    "\n",
    "BA = np.matmul(B,A)\n",
    "\n",
    "BA"
   ]
  },
  {
   "cell_type": "code",
   "execution_count": 8,
   "metadata": {},
   "outputs": [
    {
     "name": "stdout",
     "output_type": "stream",
     "text": [
      "left eigen vectors = \n",
      " [[ 0.78086881 -0.70710678]\n",
      " [ 0.62469505  0.70710678]] \n",
      "\n",
      "eigen values = \n",
      " [1.  +0.j 0.73+0.j]\n"
     ]
    }
   ],
   "source": [
    "import scipy.linalg     \n",
    "values, left = scipy.linalg.eig(A, right = False, left = True)  \n",
    "        \n",
    "print(\"left eigen vectors = \\n\", left, \"\\n\")  \n",
    "print(\"eigen values = \\n\", values)"
   ]
  },
  {
   "cell_type": "code",
   "execution_count": null,
   "metadata": {},
   "outputs": [
    {
     "data": {
      "text/plain": [
       "[np.float64(0.5555555555555556), np.float64(0.4444444444444444)]"
      ]
     },
     "execution_count": 17,
     "metadata": {},
     "output_type": "execute_result"
    }
   ],
   "source": [
    "pi = left[:,0]             \n",
    "pi_normalised = [(x/np.sum(pi).real) for x in pi]   \n",
    "pi_normalised\n",
    "\n",
    "# same answer as the output in Wk 3 reading"
   ]
  }
 ],
 "metadata": {
  "kernelspec": {
   "display_name": "morgpy",
   "language": "python",
   "name": "python3"
  },
  "language_info": {
   "codemirror_mode": {
    "name": "ipython",
    "version": 3
   },
   "file_extension": ".py",
   "mimetype": "text/x-python",
   "name": "python",
   "nbconvert_exporter": "python",
   "pygments_lexer": "ipython3",
   "version": "3.13.2"
  }
 },
 "nbformat": 4,
 "nbformat_minor": 2
}
